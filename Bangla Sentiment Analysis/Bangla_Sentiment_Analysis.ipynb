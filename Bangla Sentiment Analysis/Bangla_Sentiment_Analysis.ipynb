{
  "nbformat": 4,
  "nbformat_minor": 0,
  "metadata": {
    "colab": {
      "name": "Bangla Sentiment Analysis.ipynb",
      "provenance": [],
      "collapsed_sections": []
    },
    "kernelspec": {
      "name": "python3",
      "display_name": "Python 3"
    },
    "accelerator": "GPU"
  },
  "cells": [
    {
      "cell_type": "markdown",
      "metadata": {
        "id": "NhfGdLpd3vOK"
      },
      "source": [
        "#Importing Necesseties"
      ]
    },
    {
      "cell_type": "code",
      "metadata": {
        "id": "FmpdwAcE30MH"
      },
      "source": [
        "import re\n",
        "import string\n",
        "import numpy as np \n",
        "import random\n",
        "import pandas as pd \n",
        "import scipy \n",
        "import matplotlib.pyplot as plt\n",
        "import seaborn as sns\n",
        "from wordcloud import WordCloud\n",
        "%matplotlib inline\n",
        "from plotly import graph_objs as go\n",
        "import plotly.express as px\n",
        "import plotly.figure_factory as ff\n",
        "from collections import Counter\n",
        "\n",
        "from PIL import Image\n",
        "from wordcloud import WordCloud, STOPWORDS, ImageColorGenerator\n",
        "\n",
        "\n",
        "import nltk\n",
        "#nltk.download ('popular')\n",
        "from nltk.tokenize import word_tokenize\n",
        "from nltk.stem.porter import PorterStemmer\n",
        "from nltk.corpus import stopwords\n",
        "from nltk.stem import WordNetLemmatizer\n",
        "\n",
        "from tqdm import tqdm\n",
        "import os\n",
        "import nltk\n",
        "import spacy\n",
        "import random\n",
        "from spacy.util import compounding\n",
        "from spacy.util import minibatch\n",
        "\n",
        "# sklearn\n",
        "from sklearn.svm import LinearSVC\n",
        "from sklearn.naive_bayes import BernoulliNB\n",
        "from sklearn.linear_model import LogisticRegression\n",
        "from sklearn.metrics import precision_score\n",
        "from sklearn.metrics import recall_score\n",
        "from sklearn.metrics import accuracy_score\n",
        "\n",
        "from sklearn.model_selection import train_test_split\n",
        "from sklearn.feature_extraction.text import TfidfVectorizer\n",
        "from sklearn.metrics import confusion_matrix, classification_report\n",
        "\n",
        "from statistics import mean\n",
        "\n",
        "import warnings\n",
        "warnings.filterwarnings(\"ignore\")\n",
        "\n",
        "import os\n",
        "for dirname, _, filenames in os.walk('/kaggle/input'):\n",
        "    for filename in filenames:\n",
        "        print(os.path.join(dirname, filename))"
      ],
      "execution_count": null,
      "outputs": []
    },
    {
      "cell_type": "markdown",
      "metadata": {
        "id": "5F6iOfog4QvH"
      },
      "source": [
        "#Generating Random Colours."
      ]
    },
    {
      "cell_type": "code",
      "metadata": {
        "id": "us9XS6hw4IP9"
      },
      "source": [
        "def random_colours(number_of_colors):\n",
        "    '''\n",
        "    Simple function for random colours generation.\n",
        "    Input:\n",
        "        number_of_colors - integer value indicating the number of colours which are going to be generated.\n",
        "    Output:\n",
        "        Color in the following format: ['#E86DA4'] .\n",
        "    '''\n",
        "    colors = []\n",
        "    for i in range(number_of_colors):\n",
        "        colors.append(\"#\"+''.join([random.choice('0123456789ABCDEF') for j in range(6)]))\n",
        "    return colors"
      ],
      "execution_count": null,
      "outputs": []
    },
    {
      "cell_type": "markdown",
      "metadata": {
        "id": "sMx_B0KP4mAY"
      },
      "source": [
        "#Read the data"
      ]
    },
    {
      "cell_type": "code",
      "metadata": {
        "id": "Wpm13ANOGLV8"
      },
      "source": [
        "train = pd.read_csv('/content/Bangla_train.csv')\r\n",
        "test = pd.read_csv('/content/Bangla_test.csv')\r\n",
        "#ss = pd.read_csv('sample_submission.csv')\r\n",
        "text, sentiment = list(train['text']), list(train['sentiment'])"
      ],
      "execution_count": null,
      "outputs": []
    },
    {
      "cell_type": "code",
      "metadata": {
        "id": "Jv96F2mo4uQU",
        "colab": {
          "base_uri": "https://localhost:8080/"
        },
        "outputId": "77ce7b06-b0a4-4a95-890f-24765891b73c"
      },
      "source": [
        "print(train.shape)\n",
        "print(test.shape)"
      ],
      "execution_count": null,
      "outputs": [
        {
          "output_type": "stream",
          "text": [
            "(677, 4)\n",
            "(1006, 3)\n"
          ],
          "name": "stdout"
        }
      ]
    },
    {
      "cell_type": "code",
      "metadata": {
        "id": "OTZnpU02429I",
        "colab": {
          "base_uri": "https://localhost:8080/"
        },
        "outputId": "3ed121cb-9764-4a28-eb7a-a400fa752863"
      },
      "source": [
        "train.info()\n",
        "train.dropna(inplace=True)"
      ],
      "execution_count": null,
      "outputs": [
        {
          "output_type": "stream",
          "text": [
            "<class 'pandas.core.frame.DataFrame'>\n",
            "RangeIndex: 677 entries, 0 to 676\n",
            "Data columns (total 4 columns):\n",
            " #   Column         Non-Null Count  Dtype  \n",
            "---  ------         --------------  -----  \n",
            " 0   id             676 non-null    float64\n",
            " 1   text           677 non-null    object \n",
            " 2   selected_text  677 non-null    object \n",
            " 3   sentiment      677 non-null    object \n",
            "dtypes: float64(1), object(3)\n",
            "memory usage: 21.3+ KB\n"
          ],
          "name": "stdout"
        }
      ]
    },
    {
      "cell_type": "code",
      "metadata": {
        "id": "lqpOv0Pq46dv",
        "colab": {
          "base_uri": "https://localhost:8080/"
        },
        "outputId": "767c88b2-765f-4657-9772-832273cc4742"
      },
      "source": [
        "test.info()"
      ],
      "execution_count": null,
      "outputs": [
        {
          "output_type": "stream",
          "text": [
            "<class 'pandas.core.frame.DataFrame'>\n",
            "RangeIndex: 1006 entries, 0 to 1005\n",
            "Data columns (total 3 columns):\n",
            " #   Column     Non-Null Count  Dtype \n",
            "---  ------     --------------  ----- \n",
            " 0   id         1006 non-null   int64 \n",
            " 1   text       1006 non-null   object\n",
            " 2   sentiment  1006 non-null   object\n",
            "dtypes: int64(1), object(2)\n",
            "memory usage: 23.7+ KB\n"
          ],
          "name": "stdout"
        }
      ]
    },
    {
      "cell_type": "markdown",
      "metadata": {
        "id": "cBstzpmV6BPk"
      },
      "source": [
        "#EDA"
      ]
    },
    {
      "cell_type": "code",
      "metadata": {
        "id": "QFR4SJF86CyX",
        "colab": {
          "base_uri": "https://localhost:8080/",
          "height": 241
        },
        "outputId": "da6e9e4a-082c-41dd-8f8f-5975c2aab63d"
      },
      "source": [
        "train.head()"
      ],
      "execution_count": null,
      "outputs": [
        {
          "output_type": "execute_result",
          "data": {
            "text/html": [
              "<div>\n",
              "<style scoped>\n",
              "    .dataframe tbody tr th:only-of-type {\n",
              "        vertical-align: middle;\n",
              "    }\n",
              "\n",
              "    .dataframe tbody tr th {\n",
              "        vertical-align: top;\n",
              "    }\n",
              "\n",
              "    .dataframe thead th {\n",
              "        text-align: right;\n",
              "    }\n",
              "</style>\n",
              "<table border=\"1\" class=\"dataframe\">\n",
              "  <thead>\n",
              "    <tr style=\"text-align: right;\">\n",
              "      <th></th>\n",
              "      <th>id</th>\n",
              "      <th>text</th>\n",
              "      <th>selected_text</th>\n",
              "      <th>sentiment</th>\n",
              "    </tr>\n",
              "  </thead>\n",
              "  <tbody>\n",
              "    <tr>\n",
              "      <th>0</th>\n",
              "      <td>1498.0</td>\n",
              "      <td>হ্যা রুশনা ইন্টারমিডিয়েটে পড়ে কিন্তু ও বাচ্চা ...</td>\n",
              "      <td>হ্যা ও বাচ্চা একটা মেয়ে</td>\n",
              "      <td>positive</td>\n",
              "    </tr>\n",
              "    <tr>\n",
              "      <th>1</th>\n",
              "      <td>149.0</td>\n",
              "      <td>খারাপ দিন আসতেই পারে,, হারি জিতি টাইকারদের সাথ...</td>\n",
              "      <td>হারি জিতি টাইকারদের সাথেই আছি</td>\n",
              "      <td>positive</td>\n",
              "    </tr>\n",
              "    <tr>\n",
              "      <th>2</th>\n",
              "      <td>1617.0</td>\n",
              "      <td>স্যার ধন্যবাদ আপনাকে</td>\n",
              "      <td>স্যার ধন্যবাদ আপনাকে</td>\n",
              "      <td>positive</td>\n",
              "    </tr>\n",
              "    <tr>\n",
              "      <th>3</th>\n",
              "      <td>98.0</td>\n",
              "      <td>চাপ না নিয়ে যার যার দায়িত্ব নিয়ে স্বাভাবিক খেল...</td>\n",
              "      <td>স্বাভাবিক খেলাটা খেললেই হবে। জয়, পরাজয় কিনবা ড...</td>\n",
              "      <td>positive</td>\n",
              "    </tr>\n",
              "    <tr>\n",
              "      <th>4</th>\n",
              "      <td>122.0</td>\n",
              "      <td>সৌভাগ্যবশত আমরা BBQ সালমন, সাগর বাস এবং ক্রিস্...</td>\n",
              "      <td>সৌভাগ্যবশত</td>\n",
              "      <td>positive</td>\n",
              "    </tr>\n",
              "  </tbody>\n",
              "</table>\n",
              "</div>"
            ],
            "text/plain": [
              "       id  ... sentiment\n",
              "0  1498.0  ...  positive\n",
              "1   149.0  ...  positive\n",
              "2  1617.0  ...  positive\n",
              "3    98.0  ...  positive\n",
              "4   122.0  ...  positive\n",
              "\n",
              "[5 rows x 4 columns]"
            ]
          },
          "metadata": {
            "tags": []
          },
          "execution_count": 371
        }
      ]
    },
    {
      "cell_type": "code",
      "metadata": {
        "id": "9FzfPArO6GXS",
        "colab": {
          "base_uri": "https://localhost:8080/",
          "height": 300
        },
        "outputId": "64240f82-74d1-45cb-ea39-c6393c1a0422"
      },
      "source": [
        "train.describe()"
      ],
      "execution_count": null,
      "outputs": [
        {
          "output_type": "execute_result",
          "data": {
            "text/html": [
              "<div>\n",
              "<style scoped>\n",
              "    .dataframe tbody tr th:only-of-type {\n",
              "        vertical-align: middle;\n",
              "    }\n",
              "\n",
              "    .dataframe tbody tr th {\n",
              "        vertical-align: top;\n",
              "    }\n",
              "\n",
              "    .dataframe thead th {\n",
              "        text-align: right;\n",
              "    }\n",
              "</style>\n",
              "<table border=\"1\" class=\"dataframe\">\n",
              "  <thead>\n",
              "    <tr style=\"text-align: right;\">\n",
              "      <th></th>\n",
              "      <th>id</th>\n",
              "    </tr>\n",
              "  </thead>\n",
              "  <tbody>\n",
              "    <tr>\n",
              "      <th>count</th>\n",
              "      <td>676.000000</td>\n",
              "    </tr>\n",
              "    <tr>\n",
              "      <th>mean</th>\n",
              "      <td>1900.329882</td>\n",
              "    </tr>\n",
              "    <tr>\n",
              "      <th>std</th>\n",
              "      <td>1387.056314</td>\n",
              "    </tr>\n",
              "    <tr>\n",
              "      <th>min</th>\n",
              "      <td>1.000000</td>\n",
              "    </tr>\n",
              "    <tr>\n",
              "      <th>25%</th>\n",
              "      <td>300.250000</td>\n",
              "    </tr>\n",
              "    <tr>\n",
              "      <th>50%</th>\n",
              "      <td>1904.500000</td>\n",
              "    </tr>\n",
              "    <tr>\n",
              "      <th>75%</th>\n",
              "      <td>2647.250000</td>\n",
              "    </tr>\n",
              "    <tr>\n",
              "      <th>max</th>\n",
              "      <td>5163.000000</td>\n",
              "    </tr>\n",
              "  </tbody>\n",
              "</table>\n",
              "</div>"
            ],
            "text/plain": [
              "                id\n",
              "count   676.000000\n",
              "mean   1900.329882\n",
              "std    1387.056314\n",
              "min       1.000000\n",
              "25%     300.250000\n",
              "50%    1904.500000\n",
              "75%    2647.250000\n",
              "max    5163.000000"
            ]
          },
          "metadata": {
            "tags": []
          },
          "execution_count": 372
        }
      ]
    },
    {
      "cell_type": "code",
      "metadata": {
        "id": "GjPGXTEp6YU6",
        "colab": {
          "base_uri": "https://localhost:8080/",
          "height": 104
        },
        "outputId": "70ece680-c589-4248-ad71-d8bb8cf17f96"
      },
      "source": [
        "temp = train.groupby('sentiment').count()['text'].reset_index().sort_values(by='text',ascending=False)\n",
        "temp.style.background_gradient(cmap='Purples')"
      ],
      "execution_count": null,
      "outputs": [
        {
          "output_type": "execute_result",
          "data": {
            "text/html": [
              "<style  type=\"text/css\" >\n",
              "#T_01fbc10a_8349_11eb_aac9_0242ac1c0002row0_col1{\n",
              "            background-color:  #3f007d;\n",
              "            color:  #f1f1f1;\n",
              "        }#T_01fbc10a_8349_11eb_aac9_0242ac1c0002row1_col1{\n",
              "            background-color:  #e6e5f1;\n",
              "            color:  #000000;\n",
              "        }#T_01fbc10a_8349_11eb_aac9_0242ac1c0002row2_col1{\n",
              "            background-color:  #fcfbfd;\n",
              "            color:  #000000;\n",
              "        }</style><table id=\"T_01fbc10a_8349_11eb_aac9_0242ac1c0002\" ><thead>    <tr>        <th class=\"blank level0\" ></th>        <th class=\"col_heading level0 col0\" >sentiment</th>        <th class=\"col_heading level0 col1\" >text</th>    </tr></thead><tbody>\n",
              "                <tr>\n",
              "                        <th id=\"T_01fbc10a_8349_11eb_aac9_0242ac1c0002level0_row0\" class=\"row_heading level0 row0\" >1</th>\n",
              "                        <td id=\"T_01fbc10a_8349_11eb_aac9_0242ac1c0002row0_col0\" class=\"data row0 col0\" >neutral</td>\n",
              "                        <td id=\"T_01fbc10a_8349_11eb_aac9_0242ac1c0002row0_col1\" class=\"data row0 col1\" >249</td>\n",
              "            </tr>\n",
              "            <tr>\n",
              "                        <th id=\"T_01fbc10a_8349_11eb_aac9_0242ac1c0002level0_row1\" class=\"row_heading level0 row1\" >0</th>\n",
              "                        <td id=\"T_01fbc10a_8349_11eb_aac9_0242ac1c0002row1_col0\" class=\"data row1 col0\" >negative</td>\n",
              "                        <td id=\"T_01fbc10a_8349_11eb_aac9_0242ac1c0002row1_col1\" class=\"data row1 col1\" >217</td>\n",
              "            </tr>\n",
              "            <tr>\n",
              "                        <th id=\"T_01fbc10a_8349_11eb_aac9_0242ac1c0002level0_row2\" class=\"row_heading level0 row2\" >2</th>\n",
              "                        <td id=\"T_01fbc10a_8349_11eb_aac9_0242ac1c0002row2_col0\" class=\"data row2 col0\" >positive</td>\n",
              "                        <td id=\"T_01fbc10a_8349_11eb_aac9_0242ac1c0002row2_col1\" class=\"data row2 col1\" >210</td>\n",
              "            </tr>\n",
              "    </tbody></table>"
            ],
            "text/plain": [
              "<pandas.io.formats.style.Styler at 0x7fe21b03a9d0>"
            ]
          },
          "metadata": {
            "tags": []
          },
          "execution_count": 373
        }
      ]
    },
    {
      "cell_type": "code",
      "metadata": {
        "id": "xmCiN4LB6LNT",
        "colab": {
          "base_uri": "https://localhost:8080/",
          "height": 407
        },
        "outputId": "80005322-80de-4b42-fb1c-2ac14f1a6328"
      },
      "source": [
        "plt.figure(figsize=(12,6))\n",
        "sns.countplot(x='sentiment',data=train)"
      ],
      "execution_count": null,
      "outputs": [
        {
          "output_type": "execute_result",
          "data": {
            "text/plain": [
              "<matplotlib.axes._subplots.AxesSubplot at 0x7fe21bce5a90>"
            ]
          },
          "metadata": {
            "tags": []
          },
          "execution_count": 374
        },
        {
          "output_type": "display_data",
          "data": {
            "image/png": "[encoded data removed]",
            "text/plain": [
              "<Figure size 864x432 with 1 Axes>"
            ]
          },
          "metadata": {
            "tags": [],
            "needs_background": "light"
          }
        }
      ]
    },
    {
      "cell_type": "code",
      "metadata": {
        "id": "MDOxKKWK64J-",
        "colab": {
          "base_uri": "https://localhost:8080/",
          "height": 542
        },
        "outputId": "8afcb72d-8bc4-4dc5-f01b-5be70e9794b6"
      },
      "source": [
        "fig = go.Figure(go.Funnelarea(\n",
        "    text =temp.sentiment,\n",
        "    values = temp.text,\n",
        "    title = {\"position\": \"top center\", \"text\": \"Funnel-Chart of Sentiment Distribution\"}\n",
        "    ))\n",
        "fig.show()"
      ],
      "execution_count": null,
      "outputs": [
        {
          "output_type": "display_data",
          "data": {
            "text/html": [
              "<html>\n",
              "<head><meta charset=\"utf-8\" /></head>\n",
              "<body>\n",
              "    <div>\n",
              "            <script src=\"https://cdnjs.cloudflare.com/ajax/libs/mathjax/2.7.5/MathJax.js?config=TeX-AMS-MML_SVG\"></script><script type=\"text/javascript\">if (window.MathJax) {MathJax.Hub.Config({SVG: {font: \"STIX-Web\"}});}</script>\n",
              "                <script type=\"text/javascript\">window.PlotlyConfig = {MathJaxConfig: 'local'};</script>\n",
              "        <script src=\"https://cdn.plot.ly/plotly-latest.min.js\"></script>    \n",
              "            <div id=\"bb9a4d9e-fc64-48ee-b0e9-26f40648ceb8\" class=\"plotly-graph-div\" style=\"height:525px; width:100%;\"></div>\n",
              "            <script type=\"text/javascript\">\n",
              "                \n",
              "                    window.PLOTLYENV=window.PLOTLYENV || {};\n",
              "                    \n",
              "                if (document.getElementById(\"bb9a4d9e-fc64-48ee-b0e9-26f40648ceb8\")) {\n",
              "                    Plotly.newPlot(\n",
              "                        'bb9a4d9e-fc64-48ee-b0e9-26f40648ceb8',\n",
              "                        [{\"text\": [\"neutral\", \"negative\", \"positive\"], \"title\": {\"position\": \"top center\", \"text\": \"Funnel-Chart of Sentiment Distribution\"}, \"type\": \"funnelarea\", \"values\": [249, 217, 210]}],\n",
              "                        {\"template\": {\"data\": {\"bar\": [{\"error_x\": {\"color\": \"#2a3f5f\"}, \"error_y\": {\"color\": \"#2a3f5f\"}, \"marker\": {\"line\": {\"color\": \"#E5ECF6\", \"width\": 0.5}}, \"type\": \"bar\"}], \"barpolar\": [{\"marker\": {\"line\": {\"color\": \"#E5ECF6\", \"width\": 0.5}}, \"type\": \"barpolar\"}], \"carpet\": [{\"aaxis\": {\"endlinecolor\": \"#2a3f5f\", \"gridcolor\": \"white\", \"linecolor\": \"white\", \"minorgridcolor\": \"white\", \"startlinecolor\": \"#2a3f5f\"}, \"baxis\": {\"endlinecolor\": \"#2a3f5f\", \"gridcolor\": \"white\", \"linecolor\": \"white\", \"minorgridcolor\": \"white\", \"startlinecolor\": \"#2a3f5f\"}, \"type\": \"carpet\"}], \"choropleth\": [{\"colorbar\": {\"outlinewidth\": 0, \"ticks\": \"\"}, \"type\": \"choropleth\"}], \"contour\": [{\"colorbar\": {\"outlinewidth\": 0, \"ticks\": \"\"}, \"colorscale\": [[0.0, \"#0d0887\"], [0.1111111111111111, \"#46039f\"], [0.2222222222222222, \"#7201a8\"], [0.3333333333333333, \"#9c179e\"], [0.4444444444444444, \"#bd3786\"], [0.5555555555555556, \"#d8576b\"], [0.6666666666666666, \"#ed7953\"], [0.7777777777777778, \"#fb9f3a\"], [0.8888888888888888, \"#fdca26\"], [1.0, \"#f0f921\"]], \"type\": \"contour\"}], \"contourcarpet\": [{\"colorbar\": {\"outlinewidth\": 0, \"ticks\": \"\"}, \"type\": \"contourcarpet\"}], \"heatmap\": [{\"colorbar\": {\"outlinewidth\": 0, \"ticks\": \"\"}, \"colorscale\": [[0.0, \"#0d0887\"], [0.1111111111111111, \"#46039f\"], [0.2222222222222222, \"#7201a8\"], [0.3333333333333333, \"#9c179e\"], [0.4444444444444444, \"#bd3786\"], [0.5555555555555556, \"#d8576b\"], [0.6666666666666666, \"#ed7953\"], [0.7777777777777778, \"#fb9f3a\"], [0.8888888888888888, \"#fdca26\"], [1.0, \"#f0f921\"]], \"type\": \"heatmap\"}], \"heatmapgl\": [{\"colorbar\": {\"outlinewidth\": 0, \"ticks\": \"\"}, \"colorscale\": [[0.0, \"#0d0887\"], [0.1111111111111111, \"#46039f\"], [0.2222222222222222, \"#7201a8\"], [0.3333333333333333, \"#9c179e\"], [0.4444444444444444, \"#bd3786\"], [0.5555555555555556, \"#d8576b\"], [0.6666666666666666, \"#ed7953\"], [0.7777777777777778, \"#fb9f3a\"], [0.8888888888888888, \"#fdca26\"], [1.0, \"#f0f921\"]], \"type\": \"heatmapgl\"}], \"histogram\": [{\"marker\": {\"colorbar\": {\"outlinewidth\": 0, \"ticks\": \"\"}}, \"type\": \"histogram\"}], \"histogram2d\": [{\"colorbar\": {\"outlinewidth\": 0, \"ticks\": \"\"}, \"colorscale\": [[0.0, \"#0d0887\"], [0.1111111111111111, \"#46039f\"], [0.2222222222222222, \"#7201a8\"], [0.3333333333333333, \"#9c179e\"], [0.4444444444444444, \"#bd3786\"], [0.5555555555555556, \"#d8576b\"], [0.6666666666666666, \"#ed7953\"], [0.7777777777777778, \"#fb9f3a\"], [0.8888888888888888, \"#fdca26\"], [1.0, \"#f0f921\"]], \"type\": \"histogram2d\"}], \"histogram2dcontour\": [{\"colorbar\": {\"outlinewidth\": 0, \"ticks\": \"\"}, \"colorscale\": [[0.0, \"#0d0887\"], [0.1111111111111111, \"#46039f\"], [0.2222222222222222, \"#7201a8\"], [0.3333333333333333, \"#9c179e\"], [0.4444444444444444, \"#bd3786\"], [0.5555555555555556, \"#d8576b\"], [0.6666666666666666, \"#ed7953\"], [0.7777777777777778, \"#fb9f3a\"], [0.8888888888888888, \"#fdca26\"], [1.0, \"#f0f921\"]], \"type\": \"histogram2dcontour\"}], \"mesh3d\": [{\"colorbar\": {\"outlinewidth\": 0, \"ticks\": \"\"}, \"type\": \"mesh3d\"}], \"parcoords\": [{\"line\": {\"colorbar\": {\"outlinewidth\": 0, \"ticks\": \"\"}}, \"type\": \"parcoords\"}], \"pie\": [{\"automargin\": true, \"type\": \"pie\"}], \"scatter\": [{\"marker\": {\"colorbar\": {\"outlinewidth\": 0, \"ticks\": \"\"}}, \"type\": \"scatter\"}], \"scatter3d\": [{\"line\": {\"colorbar\": {\"outlinewidth\": 0, \"ticks\": \"\"}}, \"marker\": {\"colorbar\": {\"outlinewidth\": 0, \"ticks\": \"\"}}, \"type\": \"scatter3d\"}], \"scattercarpet\": [{\"marker\": {\"colorbar\": {\"outlinewidth\": 0, \"ticks\": \"\"}}, \"type\": \"scattercarpet\"}], \"scattergeo\": [{\"marker\": {\"colorbar\": {\"outlinewidth\": 0, \"ticks\": \"\"}}, \"type\": \"scattergeo\"}], \"scattergl\": [{\"marker\": {\"colorbar\": {\"outlinewidth\": 0, \"ticks\": \"\"}}, \"type\": \"scattergl\"}], \"scattermapbox\": [{\"marker\": {\"colorbar\": {\"outlinewidth\": 0, \"ticks\": \"\"}}, \"type\": \"scattermapbox\"}], \"scatterpolar\": [{\"marker\": {\"colorbar\": {\"outlinewidth\": 0, \"ticks\": \"\"}}, \"type\": \"scatterpolar\"}], \"scatterpolargl\": [{\"marker\": {\"colorbar\": {\"outlinewidth\": 0, \"ticks\": \"\"}}, \"type\": \"scatterpolargl\"}], \"scatterternary\": [{\"marker\": {\"colorbar\": {\"outlinewidth\": 0, \"ticks\": \"\"}}, \"type\": \"scatterternary\"}], \"surface\": [{\"colorbar\": {\"outlinewidth\": 0, \"ticks\": \"\"}, \"colorscale\": [[0.0, \"#0d0887\"], [0.1111111111111111, \"#46039f\"], [0.2222222222222222, \"#7201a8\"], [0.3333333333333333, \"#9c179e\"], [0.4444444444444444, \"#bd3786\"], [0.5555555555555556, \"#d8576b\"], [0.6666666666666666, \"#ed7953\"], [0.7777777777777778, \"#fb9f3a\"], [0.8888888888888888, \"#fdca26\"], [1.0, \"#f0f921\"]], \"type\": \"surface\"}], \"table\": [{\"cells\": {\"fill\": {\"color\": \"#EBF0F8\"}, \"line\": {\"color\": \"white\"}}, \"header\": {\"fill\": {\"color\": \"#C8D4E3\"}, \"line\": {\"color\": \"white\"}}, \"type\": \"table\"}]}, \"layout\": {\"annotationdefaults\": {\"arrowcolor\": \"#2a3f5f\", \"arrowhead\": 0, \"arrowwidth\": 1}, \"coloraxis\": {\"colorbar\": {\"outlinewidth\": 0, \"ticks\": \"\"}}, \"colorscale\": {\"diverging\": [[0, \"#8e0152\"], [0.1, \"#c51b7d\"], [0.2, \"#de77ae\"], [0.3, \"#f1b6da\"], [0.4, \"#fde0ef\"], [0.5, \"#f7f7f7\"], [0.6, \"#e6f5d0\"], [0.7, \"#b8e186\"], [0.8, \"#7fbc41\"], [0.9, \"#4d9221\"], [1, \"#276419\"]], \"sequential\": [[0.0, \"#0d0887\"], [0.1111111111111111, \"#46039f\"], [0.2222222222222222, \"#7201a8\"], [0.3333333333333333, \"#9c179e\"], [0.4444444444444444, \"#bd3786\"], [0.5555555555555556, \"#d8576b\"], [0.6666666666666666, \"#ed7953\"], [0.7777777777777778, \"#fb9f3a\"], [0.8888888888888888, \"#fdca26\"], [1.0, \"#f0f921\"]], \"sequentialminus\": [[0.0, \"#0d0887\"], [0.1111111111111111, \"#46039f\"], [0.2222222222222222, \"#7201a8\"], [0.3333333333333333, \"#9c179e\"], [0.4444444444444444, \"#bd3786\"], [0.5555555555555556, \"#d8576b\"], [0.6666666666666666, \"#ed7953\"], [0.7777777777777778, \"#fb9f3a\"], [0.8888888888888888, \"#fdca26\"], [1.0, \"#f0f921\"]]}, \"colorway\": [\"#636efa\", \"#EF553B\", \"#00cc96\", \"#ab63fa\", \"#FFA15A\", \"#19d3f3\", \"#FF6692\", \"#B6E880\", \"#FF97FF\", \"#FECB52\"], \"font\": {\"color\": \"#2a3f5f\"}, \"geo\": {\"bgcolor\": \"white\", \"lakecolor\": \"white\", \"landcolor\": \"#E5ECF6\", \"showlakes\": true, \"showland\": true, \"subunitcolor\": \"white\"}, \"hoverlabel\": {\"align\": \"left\"}, \"hovermode\": \"closest\", \"mapbox\": {\"style\": \"light\"}, \"paper_bgcolor\": \"white\", \"plot_bgcolor\": \"#E5ECF6\", \"polar\": {\"angularaxis\": {\"gridcolor\": \"white\", \"linecolor\": \"white\", \"ticks\": \"\"}, \"bgcolor\": \"#E5ECF6\", \"radialaxis\": {\"gridcolor\": \"white\", \"linecolor\": \"white\", \"ticks\": \"\"}}, \"scene\": {\"xaxis\": {\"backgroundcolor\": \"#E5ECF6\", \"gridcolor\": \"white\", \"gridwidth\": 2, \"linecolor\": \"white\", \"showbackground\": true, \"ticks\": \"\", \"zerolinecolor\": \"white\"}, \"yaxis\": {\"backgroundcolor\": \"#E5ECF6\", \"gridcolor\": \"white\", \"gridwidth\": 2, \"linecolor\": \"white\", \"showbackground\": true, \"ticks\": \"\", \"zerolinecolor\": \"white\"}, \"zaxis\": {\"backgroundcolor\": \"#E5ECF6\", \"gridcolor\": \"white\", \"gridwidth\": 2, \"linecolor\": \"white\", \"showbackground\": true, \"ticks\": \"\", \"zerolinecolor\": \"white\"}}, \"shapedefaults\": {\"line\": {\"color\": \"#2a3f5f\"}}, \"ternary\": {\"aaxis\": {\"gridcolor\": \"white\", \"linecolor\": \"white\", \"ticks\": \"\"}, \"baxis\": {\"gridcolor\": \"white\", \"linecolor\": \"white\", \"ticks\": \"\"}, \"bgcolor\": \"#E5ECF6\", \"caxis\": {\"gridcolor\": \"white\", \"linecolor\": \"white\", \"ticks\": \"\"}}, \"title\": {\"x\": 0.05}, \"xaxis\": {\"automargin\": true, \"gridcolor\": \"white\", \"linecolor\": \"white\", \"ticks\": \"\", \"title\": {\"standoff\": 15}, \"zerolinecolor\": \"white\", \"zerolinewidth\": 2}, \"yaxis\": {\"automargin\": true, \"gridcolor\": \"white\", \"linecolor\": \"white\", \"ticks\": \"\", \"title\": {\"standoff\": 15}, \"zerolinecolor\": \"white\", \"zerolinewidth\": 2}}}},\n",
              "                        {\"responsive\": true}\n",
              "                    ).then(function(){\n",
              "                            \n",
              "var gd = document.getElementById('bb9a4d9e-fc64-48ee-b0e9-26f40648ceb8');\n",
              "var x = new MutationObserver(function (mutations, observer) {{\n",
              "        var display = window.getComputedStyle(gd).display;\n",
              "        if (!display || display === 'none') {{\n",
              "            console.log([gd, 'removed!']);\n",
              "            Plotly.purge(gd);\n",
              "            observer.disconnect();\n",
              "        }}\n",
              "}});\n",
              "\n",
              "// Listen for the removal of the full notebook cells\n",
              "var notebookContainer = gd.closest('#notebook-container');\n",
              "if (notebookContainer) {{\n",
              "    x.observe(notebookContainer, {childList: true});\n",
              "}}\n",
              "\n",
              "// Listen for the clearing of the current output cell\n",
              "var outputEl = gd.closest('.output');\n",
              "if (outputEl) {{\n",
              "    x.observe(outputEl, {childList: true});\n",
              "}}\n",
              "\n",
              "                        })\n",
              "                };\n",
              "                \n",
              "            </script>\n",
              "        </div>\n",
              "</body>\n",
              "</html>"
            ]
          },
          "metadata": {
            "tags": []
          }
        }
      ]
    },
    {
      "cell_type": "markdown",
      "metadata": {
        "id": "HO9TexVd7ZYk"
      },
      "source": [
        "#Generating  Meta-Features"
      ]
    },
    {
      "cell_type": "code",
      "metadata": {
        "id": "AF2xHbhO7etJ"
      },
      "source": [
        "def jaccard(str1, str2): \n",
        "    a = set(str1.lower().split()) \n",
        "    b = set(str2.lower().split())\n",
        "    c = a.intersection(b)\n",
        "    return float(len(c)) / (len(a) + len(b) - len(c))"
      ],
      "execution_count": null,
      "outputs": []
    },
    {
      "cell_type": "code",
      "metadata": {
        "id": "4uDQaoPN7k5R"
      },
      "source": [
        "results_jaccard=[]\n",
        "\n",
        "for ind,row in train.iterrows():\n",
        "    sentence1 = row.text\n",
        "    sentence2 = row.selected_text\n",
        "\n",
        "    jaccard_score = jaccard(sentence1,sentence2)\n",
        "    results_jaccard.append([sentence1,sentence2,jaccard_score])"
      ],
      "execution_count": null,
      "outputs": []
    },
    {
      "cell_type": "code",
      "metadata": {
        "id": "eEx_yP2k7qhm"
      },
      "source": [
        "jaccard = pd.DataFrame(results_jaccard,columns=[\"text\",\"selected_text\",\"jaccard_score\"])\n",
        "train = train.merge(jaccard,how='outer')"
      ],
      "execution_count": null,
      "outputs": []
    },
    {
      "cell_type": "code",
      "metadata": {
        "id": "IH42zCRg7v2G"
      },
      "source": [
        "train['Num_words_ST'] = train['selected_text'].apply(lambda x:len(str(x).split())) #Number Of words in Selected Text\n",
        "train['Num_word_text'] = train['text'].apply(lambda x:len(str(x).split())) #Number Of words in main text\n",
        "train['difference_in_words'] = train['Num_word_text'] - train['Num_words_ST'] #Difference in Number of words text and Selected Text"
      ],
      "execution_count": null,
      "outputs": []
    },
    {
      "cell_type": "code",
      "metadata": {
        "id": "t1e3goge783t",
        "colab": {
          "base_uri": "https://localhost:8080/",
          "height": 504
        },
        "outputId": "caec4d3c-0e9c-4e48-f13d-927d797c7453"
      },
      "source": [
        "train.head()"
      ],
      "execution_count": null,
      "outputs": [
        {
          "output_type": "execute_result",
          "data": {
            "text/html": [
              "<div>\n",
              "<style scoped>\n",
              "    .dataframe tbody tr th:only-of-type {\n",
              "        vertical-align: middle;\n",
              "    }\n",
              "\n",
              "    .dataframe tbody tr th {\n",
              "        vertical-align: top;\n",
              "    }\n",
              "\n",
              "    .dataframe thead th {\n",
              "        text-align: right;\n",
              "    }\n",
              "</style>\n",
              "<table border=\"1\" class=\"dataframe\">\n",
              "  <thead>\n",
              "    <tr style=\"text-align: right;\">\n",
              "      <th></th>\n",
              "      <th>id</th>\n",
              "      <th>text</th>\n",
              "      <th>selected_text</th>\n",
              "      <th>sentiment</th>\n",
              "      <th>jaccard_score</th>\n",
              "      <th>Num_words_ST</th>\n",
              "      <th>Num_word_text</th>\n",
              "      <th>difference_in_words</th>\n",
              "    </tr>\n",
              "  </thead>\n",
              "  <tbody>\n",
              "    <tr>\n",
              "      <th>0</th>\n",
              "      <td>1498.0</td>\n",
              "      <td>হ্যা রুশনা ইন্টারমিডিয়েটে পড়ে কিন্তু ও বাচ্চা ...</td>\n",
              "      <td>হ্যা ও বাচ্চা একটা মেয়ে</td>\n",
              "      <td>positive</td>\n",
              "      <td>0.555556</td>\n",
              "      <td>5</td>\n",
              "      <td>9</td>\n",
              "      <td>4</td>\n",
              "    </tr>\n",
              "    <tr>\n",
              "      <th>1</th>\n",
              "      <td>149.0</td>\n",
              "      <td>খারাপ দিন আসতেই পারে,, হারি জিতি টাইকারদের সাথ...</td>\n",
              "      <td>হারি জিতি টাইকারদের সাথেই আছি</td>\n",
              "      <td>positive</td>\n",
              "      <td>0.555556</td>\n",
              "      <td>5</td>\n",
              "      <td>9</td>\n",
              "      <td>4</td>\n",
              "    </tr>\n",
              "    <tr>\n",
              "      <th>2</th>\n",
              "      <td>1617.0</td>\n",
              "      <td>স্যার ধন্যবাদ আপনাকে</td>\n",
              "      <td>স্যার ধন্যবাদ আপনাকে</td>\n",
              "      <td>positive</td>\n",
              "      <td>1.000000</td>\n",
              "      <td>3</td>\n",
              "      <td>3</td>\n",
              "      <td>0</td>\n",
              "    </tr>\n",
              "    <tr>\n",
              "      <th>3</th>\n",
              "      <td>98.0</td>\n",
              "      <td>চাপ না নিয়ে যার যার দায়িত্ব নিয়ে স্বাভাবিক খেল...</td>\n",
              "      <td>স্বাভাবিক খেলাটা খেললেই হবে। জয়, পরাজয় কিনবা ড...</td>\n",
              "      <td>positive</td>\n",
              "      <td>0.666667</td>\n",
              "      <td>10</td>\n",
              "      <td>17</td>\n",
              "      <td>7</td>\n",
              "    </tr>\n",
              "    <tr>\n",
              "      <th>4</th>\n",
              "      <td>122.0</td>\n",
              "      <td>সৌভাগ্যবশত আমরা BBQ সালমন, সাগর বাস এবং ক্রিস্...</td>\n",
              "      <td>সৌভাগ্যবশত</td>\n",
              "      <td>positive</td>\n",
              "      <td>0.083333</td>\n",
              "      <td>1</td>\n",
              "      <td>12</td>\n",
              "      <td>11</td>\n",
              "    </tr>\n",
              "  </tbody>\n",
              "</table>\n",
              "</div>"
            ],
            "text/plain": [
              "       id  ... difference_in_words\n",
              "0  1498.0  ...                   4\n",
              "1   149.0  ...                   4\n",
              "2  1617.0  ...                   0\n",
              "3    98.0  ...                   7\n",
              "4   122.0  ...                  11\n",
              "\n",
              "[5 rows x 8 columns]"
            ]
          },
          "metadata": {
            "tags": []
          },
          "execution_count": 380
        }
      ]
    },
    {
      "cell_type": "code",
      "metadata": {
        "id": "Cb1OoWSO8Nbr",
        "colab": {
          "base_uri": "https://localhost:8080/",
          "height": 737
        },
        "outputId": "8c72d98f-75cc-47ba-9a1e-ae8a29352c4e"
      },
      "source": [
        "hist_data = [train['Num_words_ST'],train['Num_word_text']]\n",
        "\n",
        "group_labels = ['Selected_Text', 'Text']\n",
        "\n",
        "# Create distplot with custom bin_size\n",
        "fig = ff.create_distplot(hist_data, group_labels,show_curve=False)\n",
        "fig.update_layout(title_text='Distribution of Number Of words')\n",
        "fig.update_layout(\n",
        "    autosize=False,\n",
        "    width=900,\n",
        "    height=700,\n",
        "    paper_bgcolor=\"LightSteelBlue\",\n",
        ")\n",
        "fig.show()"
      ],
      "execution_count": null,
      "outputs": [
        {
          "output_type": "display_data",
          "data": {
            "text/html": [
              "<html>\n",
              "<head><meta charset=\"utf-8\" /></head>\n",
              "<body>\n",
              "    <div>\n",
              "            <script src=\"https://cdnjs.cloudflare.com/ajax/libs/mathjax/2.7.5/MathJax.js?config=TeX-AMS-MML_SVG\"></script><script type=\"text/javascript\">if (window.MathJax) {MathJax.Hub.Config({SVG: {font: \"STIX-Web\"}});}</script>\n",
              "                <script type=\"text/javascript\">window.PlotlyConfig = {MathJaxConfig: 'local'};</script>\n",
              "        <script src=\"https://cdn.plot.ly/plotly-latest.min.js\"></script>    \n",
              "            <div id=\"e0bb6c8d-19f0-4ecf-a992-1eb97438076c\" class=\"plotly-graph-div\" style=\"height:700px; width:900px;\"></div>\n",
              "            <script type=\"text/javascript\">\n",
              "                \n",
              "                    window.PLOTLYENV=window.PLOTLYENV || {};\n",
              "                    \n",
              "                if (document.getElementById(\"e0bb6c8d-19f0-4ecf-a992-1eb97438076c\")) {\n",
              "                    Plotly.newPlot(\n",
              "                        'e0bb6c8d-19f0-4ecf-a992-1eb97438076c',\n",
              "                        [{\"autobinx\": false, \"histnorm\": \"probability density\", \"legendgroup\": \"Selected_Text\", \"marker\": {\"color\": \"rgb(31, 119, 180)\"}, \"name\": \"Selected_Text\", \"opacity\": 0.7, \"type\": \"histogram\", \"x\": [5, 5, 3, 10, 1, 4, 2, 2, 1, 1, 3, 5, 12, 8, 3, 1, 1, 1, 2, 4, 1, 4, 6, 3, 1, 2, 3, 1, 2, 5, 5, 4, 9, 2, 2, 3, 2, 2, 1, 2, 2, 3, 10, 5, 1, 4, 10, 4, 3, 3, 3, 4, 3, 2, 5, 1, 1, 3, 1, 1, 2, 1, 1, 2, 2, 2, 2, 7, 9, 4, 1, 1, 2, 4, 3, 2, 5, 7, 6, 2, 3, 2, 5, 3, 3, 2, 7, 7, 1, 1, 2, 2, 2, 2, 2, 3, 1, 4, 7, 2, 9, 6, 4, 2, 2, 8, 6, 3, 3, 2, 1, 2, 2, 2, 2, 2, 14, 5, 7, 5, 2, 3, 2, 2, 3, 4, 2, 2, 8, 6, 4, 2, 6, 1, 1, 7, 7, 1, 1, 2, 2, 3, 2, 5, 2, 7, 2, 9, 1, 2, 2, 3, 1, 3, 3, 7, 8, 4, 6, 2, 2, 9, 6, 8, 5, 1, 2, 1, 2, 1, 1, 8, 1, 12, 7, 2, 5, 3, 16, 3, 7, 1, 6, 1, 3, 5, 3, 1, 2, 6, 2, 5, 3, 1, 1, 7, 3, 6, 1, 4, 8, 2, 6, 2, 1, 4, 2, 4, 4, 12, 2, 7, 4, 8, 12, 7, 8, 13, 9, 7, 6, 3, 11, 13, 5, 3, 18, 7, 14, 17, 6, 11, 1, 7, 1, 14, 1, 4, 6, 8, 6, 5, 5, 9, 8, 18, 4, 4, 7, 3, 6, 21, 13, 3, 5, 13, 4, 6, 6, 4, 9, 4, 8, 8, 8, 8, 8, 7, 12, 11, 7, 9, 2, 11, 13, 12, 10, 9, 3, 9, 8, 5, 13, 14, 7, 3, 6, 5, 8, 6, 2, 2, 9, 10, 11, 7, 6, 20, 3, 3, 7, 11, 15, 3, 7, 9, 12, 2, 3, 17, 7, 11, 13, 7, 2, 10, 5, 7, 16, 8, 6, 13, 14, 4, 12, 4, 10, 4, 3, 13, 10, 2, 12, 5, 19, 10, 12, 16, 11, 1, 4, 5, 8, 11, 19, 11, 8, 33, 11, 7, 14, 5, 19, 8, 20, 12, 9, 14, 4, 4, 2, 19, 12, 10, 13, 4, 6, 10, 8, 9, 9, 8, 13, 9, 14, 16, 2, 21, 3, 6, 17, 2, 13, 17, 9, 5, 7, 6, 5, 6, 4, 17, 14, 6, 4, 14, 15, 15, 9, 8, 9, 4, 8, 11, 6, 4, 6, 10, 9, 7, 11, 4, 7, 5, 15, 19, 19, 17, 13, 4, 6, 6, 18, 9, 4, 4, 4, 5, 7, 8, 2, 1, 3, 20, 11, 5, 6, 5, 4, 3, 2, 14, 7, 6, 12, 7, 5, 5, 2, 2, 1, 9, 8, 4, 7, 6, 2, 3, 3, 9, 6, 12, 5, 10, 1, 7, 17, 5, 15, 2, 3, 6, 6, 3, 27, 9, 5, 5, 13, 13, 5, 1, 11, 3, 9, 5, 3, 3, 13, 5, 9, 6, 8, 8, 4, 3, 6, 5, 2, 2, 4, 3, 5, 9, 6, 4, 3, 5, 8, 7, 1, 11, 6, 1, 7, 1, 7, 12, 5, 2, 5, 5, 8, 5, 2, 2, 4, 4, 9, 3, 1, 3, 2, 6, 4, 4, 3, 4, 2, 2, 3, 8, 6, 11, 2, 1, 9, 3, 2, 1, 11, 4, 3, 11, 7, 4, 6, 5, 4, 13, 10, 9, 6, 7, 1, 9, 4, 1, 1, 3, 2, 3, 4, 2, 3, 4, 4, 11, 2, 3, 3, 3, 2, 3, 3, 3, 3, 11, 2, 1, 8, 4, 8, 3, 7, 5, 4, 6, 6, 6, 5, 3, 9, 7, 4, 13, 27, 3, 5, 5, 10, 6, 8, 3, 6, 8, 8, 36, 7, 8, 6, 11, 13, 7, 3, 3, 3, 5, 15, 5, 7, 8, 7, 6, 1, 7, 4, 3, 3, 5, 12, 4, 6, 2, 5, 2, 2, 2, 3, 1, 4, 2, 2, 2, 5, 2, 3, 6, 2, 5, 2, 3, 12, 6, 12, 10, 15, 3, 7, 2, 3, 4, 6, 24, 2, 9, 11, 2], \"xaxis\": \"x\", \"xbins\": {\"end\": 36.0, \"size\": 1.0, \"start\": 1.0}, \"yaxis\": \"y\"}, {\"autobinx\": false, \"histnorm\": \"probability density\", \"legendgroup\": \"Text\", \"marker\": {\"color\": \"rgb(255, 127, 14)\"}, \"name\": \"Text\", \"opacity\": 0.7, \"type\": \"histogram\", \"x\": [9, 9, 3, 17, 12, 7, 6, 11, 6, 3, 11, 13, 12, 11, 6, 6, 3, 2, 11, 8, 4, 10, 9, 7, 2, 2, 7, 1, 14, 7, 10, 29, 9, 3, 13, 6, 2, 4, 3, 6, 3, 7, 10, 12, 6, 8, 18, 9, 9, 4, 10, 8, 6, 6, 11, 16, 3, 10, 4, 14, 6, 2, 4, 9, 7, 9, 5, 10, 15, 5, 6, 7, 2, 6, 8, 5, 6, 9, 11, 4, 13, 4, 7, 4, 5, 6, 17, 22, 13, 3, 8, 2, 17, 4, 3, 5, 4, 5, 18, 20, 30, 8, 7, 26, 10, 9, 13, 5, 18, 13, 7, 7, 2, 4, 2, 4, 21, 9, 7, 7, 10, 3, 9, 2, 4, 4, 4, 5, 11, 15, 7, 3, 18, 6, 2, 8, 10, 5, 11, 4, 5, 5, 3, 5, 12, 7, 4, 12, 6, 7, 10, 4, 5, 6, 6, 9, 9, 7, 12, 4, 6, 15, 13, 11, 7, 12, 14, 2, 5, 5, 5, 8, 4, 14, 16, 10, 20, 14, 16, 6, 24, 3, 12, 3, 7, 12, 4, 5, 3, 14, 3, 7, 3, 2, 9, 15, 6, 11, 5, 4, 23, 2, 11, 5, 4, 17, 5, 9, 23, 12, 2, 7, 4, 8, 12, 7, 8, 13, 9, 7, 6, 3, 11, 13, 5, 3, 18, 7, 14, 17, 6, 11, 1, 7, 1, 14, 1, 4, 6, 8, 6, 5, 5, 9, 8, 18, 4, 4, 7, 3, 6, 21, 13, 3, 5, 13, 4, 6, 6, 4, 9, 4, 8, 8, 8, 8, 8, 7, 12, 11, 7, 9, 3, 11, 13, 12, 10, 9, 3, 9, 8, 5, 13, 14, 7, 3, 6, 5, 8, 6, 2, 2, 9, 10, 11, 7, 6, 20, 3, 3, 7, 11, 15, 3, 7, 9, 12, 2, 3, 17, 7, 11, 13, 7, 2, 10, 5, 7, 16, 8, 6, 13, 14, 4, 12, 4, 10, 4, 3, 13, 10, 2, 12, 5, 19, 10, 12, 16, 11, 15, 4, 5, 8, 11, 19, 11, 8, 33, 11, 7, 14, 5, 19, 8, 20, 12, 9, 14, 4, 9, 5, 19, 12, 10, 13, 4, 6, 10, 8, 9, 9, 8, 13, 9, 14, 16, 2, 21, 6, 6, 17, 2, 17, 17, 9, 5, 7, 6, 5, 6, 4, 17, 14, 6, 4, 14, 15, 15, 9, 8, 9, 4, 8, 11, 6, 4, 6, 10, 9, 7, 11, 4, 7, 5, 15, 19, 19, 17, 13, 4, 6, 6, 18, 9, 4, 4, 4, 5, 7, 8, 2, 1, 3, 20, 11, 5, 6, 5, 4, 3, 2, 14, 7, 6, 12, 16, 5, 13, 6, 3, 4, 9, 8, 4, 7, 16, 8, 10, 5, 9, 6, 12, 7, 10, 39, 7, 17, 9, 15, 3, 3, 6, 6, 3, 27, 9, 5, 9, 13, 15, 18, 1, 11, 6, 9, 10, 6, 3, 13, 5, 9, 6, 8, 8, 4, 14, 6, 5, 38, 13, 6, 4, 5, 9, 8, 4, 12, 5, 21, 7, 10, 15, 6, 5, 7, 5, 7, 12, 5, 18, 6, 5, 8, 5, 11, 18, 8, 7, 11, 6, 4, 12, 2, 8, 9, 6, 6, 22, 2, 9, 6, 8, 15, 11, 10, 2, 9, 5, 8, 8, 11, 4, 7, 11, 16, 10, 10, 11, 10, 13, 10, 13, 8, 9, 11, 23, 4, 2, 6, 12, 3, 3, 4, 2, 48, 10, 6, 11, 8, 6, 20, 5, 6, 11, 9, 7, 12, 15, 15, 9, 10, 4, 13, 9, 7, 5, 4, 6, 6, 6, 8, 10, 9, 7, 4, 13, 27, 1, 9, 10, 10, 6, 8, 7, 6, 8, 8, 36, 7, 8, 19, 11, 13, 7, 3, 3, 7, 5, 15, 5, 19, 8, 7, 6, 7, 10, 4, 3, 7, 15, 12, 4, 6, 12, 6, 7, 9, 8, 13, 4, 4, 5, 9, 5, 28, 6, 7, 17, 5, 10, 7, 3, 12, 6, 12, 10, 15, 3, 7, 2, 3, 4, 6, 24, 2, 9, 11, 2], \"xaxis\": \"x\", \"xbins\": {\"end\": 48.0, \"size\": 1.0, \"start\": 1.0}, \"yaxis\": \"y\"}, {\"legendgroup\": \"Selected_Text\", \"marker\": {\"color\": \"rgb(31, 119, 180)\", \"symbol\": \"line-ns-open\"}, \"mode\": \"markers\", \"name\": \"Selected_Text\", \"showlegend\": false, \"type\": \"scatter\", \"x\": [5, 5, 3, 10, 1, 4, 2, 2, 1, 1, 3, 5, 12, 8, 3, 1, 1, 1, 2, 4, 1, 4, 6, 3, 1, 2, 3, 1, 2, 5, 5, 4, 9, 2, 2, 3, 2, 2, 1, 2, 2, 3, 10, 5, 1, 4, 10, 4, 3, 3, 3, 4, 3, 2, 5, 1, 1, 3, 1, 1, 2, 1, 1, 2, 2, 2, 2, 7, 9, 4, 1, 1, 2, 4, 3, 2, 5, 7, 6, 2, 3, 2, 5, 3, 3, 2, 7, 7, 1, 1, 2, 2, 2, 2, 2, 3, 1, 4, 7, 2, 9, 6, 4, 2, 2, 8, 6, 3, 3, 2, 1, 2, 2, 2, 2, 2, 14, 5, 7, 5, 2, 3, 2, 2, 3, 4, 2, 2, 8, 6, 4, 2, 6, 1, 1, 7, 7, 1, 1, 2, 2, 3, 2, 5, 2, 7, 2, 9, 1, 2, 2, 3, 1, 3, 3, 7, 8, 4, 6, 2, 2, 9, 6, 8, 5, 1, 2, 1, 2, 1, 1, 8, 1, 12, 7, 2, 5, 3, 16, 3, 7, 1, 6, 1, 3, 5, 3, 1, 2, 6, 2, 5, 3, 1, 1, 7, 3, 6, 1, 4, 8, 2, 6, 2, 1, 4, 2, 4, 4, 12, 2, 7, 4, 8, 12, 7, 8, 13, 9, 7, 6, 3, 11, 13, 5, 3, 18, 7, 14, 17, 6, 11, 1, 7, 1, 14, 1, 4, 6, 8, 6, 5, 5, 9, 8, 18, 4, 4, 7, 3, 6, 21, 13, 3, 5, 13, 4, 6, 6, 4, 9, 4, 8, 8, 8, 8, 8, 7, 12, 11, 7, 9, 2, 11, 13, 12, 10, 9, 3, 9, 8, 5, 13, 14, 7, 3, 6, 5, 8, 6, 2, 2, 9, 10, 11, 7, 6, 20, 3, 3, 7, 11, 15, 3, 7, 9, 12, 2, 3, 17, 7, 11, 13, 7, 2, 10, 5, 7, 16, 8, 6, 13, 14, 4, 12, 4, 10, 4, 3, 13, 10, 2, 12, 5, 19, 10, 12, 16, 11, 1, 4, 5, 8, 11, 19, 11, 8, 33, 11, 7, 14, 5, 19, 8, 20, 12, 9, 14, 4, 4, 2, 19, 12, 10, 13, 4, 6, 10, 8, 9, 9, 8, 13, 9, 14, 16, 2, 21, 3, 6, 17, 2, 13, 17, 9, 5, 7, 6, 5, 6, 4, 17, 14, 6, 4, 14, 15, 15, 9, 8, 9, 4, 8, 11, 6, 4, 6, 10, 9, 7, 11, 4, 7, 5, 15, 19, 19, 17, 13, 4, 6, 6, 18, 9, 4, 4, 4, 5, 7, 8, 2, 1, 3, 20, 11, 5, 6, 5, 4, 3, 2, 14, 7, 6, 12, 7, 5, 5, 2, 2, 1, 9, 8, 4, 7, 6, 2, 3, 3, 9, 6, 12, 5, 10, 1, 7, 17, 5, 15, 2, 3, 6, 6, 3, 27, 9, 5, 5, 13, 13, 5, 1, 11, 3, 9, 5, 3, 3, 13, 5, 9, 6, 8, 8, 4, 3, 6, 5, 2, 2, 4, 3, 5, 9, 6, 4, 3, 5, 8, 7, 1, 11, 6, 1, 7, 1, 7, 12, 5, 2, 5, 5, 8, 5, 2, 2, 4, 4, 9, 3, 1, 3, 2, 6, 4, 4, 3, 4, 2, 2, 3, 8, 6, 11, 2, 1, 9, 3, 2, 1, 11, 4, 3, 11, 7, 4, 6, 5, 4, 13, 10, 9, 6, 7, 1, 9, 4, 1, 1, 3, 2, 3, 4, 2, 3, 4, 4, 11, 2, 3, 3, 3, 2, 3, 3, 3, 3, 11, 2, 1, 8, 4, 8, 3, 7, 5, 4, 6, 6, 6, 5, 3, 9, 7, 4, 13, 27, 3, 5, 5, 10, 6, 8, 3, 6, 8, 8, 36, 7, 8, 6, 11, 13, 7, 3, 3, 3, 5, 15, 5, 7, 8, 7, 6, 1, 7, 4, 3, 3, 5, 12, 4, 6, 2, 5, 2, 2, 2, 3, 1, 4, 2, 2, 2, 5, 2, 3, 6, 2, 5, 2, 3, 12, 6, 12, 10, 15, 3, 7, 2, 3, 4, 6, 24, 2, 9, 11, 2], \"xaxis\": \"x\", \"y\": [\"Selected_Text\", \"Selected_Text\", \"Selected_Text\", \"Selected_Text\", \"Selected_Text\", \"Selected_Text\", \"Selected_Text\", \"Selected_Text\", \"Selected_Text\", \"Selected_Text\", \"Selected_Text\", \"Selected_Text\", \"Selected_Text\", \"Selected_Text\", \"Selected_Text\", \"Selected_Text\", \"Selected_Text\", \"Selected_Text\", \"Selected_Text\", \"Selected_Text\", \"Selected_Text\", \"Selected_Text\", \"Selected_Text\", \"Selected_Text\", \"Selected_Text\", \"Selected_Text\", \"Selected_Text\", \"Selected_Text\", \"Selected_Text\", \"Selected_Text\", \"Selected_Text\", \"Selected_Text\", \"Selected_Text\", \"Selected_Text\", \"Selected_Text\", \"Selected_Text\", \"Selected_Text\", \"Selected_Text\", \"Selected_Text\", \"Selected_Text\", \"Selected_Text\", \"Selected_Text\", \"Selected_Text\", \"Selected_Text\", \"Selected_Text\", \"Selected_Text\", \"Selected_Text\", \"Selected_Text\", \"Selected_Text\", \"Selected_Text\", \"Selected_Text\", \"Selected_Text\", \"Selected_Text\", \"Selected_Text\", \"Selected_Text\", \"Selected_Text\", \"Selected_Text\", \"Selected_Text\", \"Selected_Text\", \"Selected_Text\", \"Selected_Text\", \"Selected_Text\", \"Selected_Text\", \"Selected_Text\", \"Selected_Text\", \"Selected_Text\", \"Selected_Text\", \"Selected_Text\", \"Selected_Text\", \"Selected_Text\", \"Selected_Text\", \"Selected_Text\", \"Selected_Text\", \"Selected_Text\", \"Selected_Text\", \"Selected_Text\", \"Selected_Text\", \"Selected_Text\", \"Selected_Text\", \"Selected_Text\", \"Selected_Text\", \"Selected_Text\", \"Selected_Text\", \"Selected_Text\", \"Selected_Text\", \"Selected_Text\", \"Selected_Text\", \"Selected_Text\", \"Selected_Text\", \"Selected_Text\", \"Selected_Text\", \"Selected_Text\", \"Selected_Text\", \"Selected_Text\", \"Selected_Text\", \"Selected_Text\", \"Selected_Text\", \"Selected_Text\", \"Selected_Text\", \"Selected_Text\", \"Selected_Text\", \"Selected_Text\", \"Selected_Text\", \"Selected_Text\", \"Selected_Text\", \"Selected_Text\", \"Selected_Text\", \"Selected_Text\", \"Selected_Text\", \"Selected_Text\", \"Selected_Text\", \"Selected_Text\", \"Selected_Text\", \"Selected_Text\", \"Selected_Text\", \"Selected_Text\", \"Selected_Text\", \"Selected_Text\", \"Selected_Text\", \"Selected_Text\", \"Selected_Text\", \"Selected_Text\", \"Selected_Text\", \"Selected_Text\", \"Selected_Text\", \"Selected_Text\", \"Selected_Text\", \"Selected_Text\", \"Selected_Text\", \"Selected_Text\", \"Selected_Text\", \"Selected_Text\", \"Selected_Text\", \"Selected_Text\", \"Selected_Text\", \"Selected_Text\", \"Selected_Text\", \"Selected_Text\", \"Selected_Text\", \"Selected_Text\", \"Selected_Text\", \"Selected_Text\", \"Selected_Text\", \"Selected_Text\", \"Selected_Text\", \"Selected_Text\", \"Selected_Text\", \"Selected_Text\", \"Selected_Text\", \"Selected_Text\", \"Selected_Text\", \"Selected_Text\", \"Selected_Text\", \"Selected_Text\", \"Selected_Text\", \"Selected_Text\", \"Selected_Text\", \"Selected_Text\", \"Selected_Text\", \"Selected_Text\", \"Selected_Text\", \"Selected_Text\", \"Selected_Text\", \"Selected_Text\", \"Selected_Text\", \"Selected_Text\", \"Selected_Text\", \"Selected_Text\", \"Selected_Text\", \"Selected_Text\", \"Selected_Text\", \"Selected_Text\", \"Selected_Text\", \"Selected_Text\", \"Selected_Text\", \"Selected_Text\", \"Selected_Text\", \"Selected_Text\", \"Selected_Text\", \"Selected_Text\", \"Selected_Text\", \"Selected_Text\", \"Selected_Text\", \"Selected_Text\", \"Selected_Text\", \"Selected_Text\", \"Selected_Text\", \"Selected_Text\", \"Selected_Text\", \"Selected_Text\", \"Selected_Text\", \"Selected_Text\", \"Selected_Text\", \"Selected_Text\", \"Selected_Text\", \"Selected_Text\", \"Selected_Text\", \"Selected_Text\", \"Selected_Text\", \"Selected_Text\", \"Selected_Text\", \"Selected_Text\", \"Selected_Text\", \"Selected_Text\", \"Selected_Text\", \"Selected_Text\", \"Selected_Text\", \"Selected_Text\", \"Selected_Text\", \"Selected_Text\", \"Selected_Text\", \"Selected_Text\", \"Selected_Text\", \"Selected_Text\", \"Selected_Text\", \"Selected_Text\", \"Selected_Text\", \"Selected_Text\", \"Selected_Text\", \"Selected_Text\", \"Selected_Text\", \"Selected_Text\", \"Selected_Text\", \"Selected_Text\", \"Selected_Text\", \"Selected_Text\", \"Selected_Text\", \"Selected_Text\", \"Selected_Text\", \"Selected_Text\", \"Selected_Text\", \"Selected_Text\", \"Selected_Text\", \"Selected_Text\", \"Selected_Text\", \"Selected_Text\", \"Selected_Text\", \"Selected_Text\", \"Selected_Text\", \"Selected_Text\", \"Selected_Text\", \"Selected_Text\", \"Selected_Text\", \"Selected_Text\", \"Selected_Text\", \"Selected_Text\", \"Selected_Text\", \"Selected_Text\", \"Selected_Text\", \"Selected_Text\", \"Selected_Text\", \"Selected_Text\", \"Selected_Text\", \"Selected_Text\", \"Selected_Text\", \"Selected_Text\", \"Selected_Text\", \"Selected_Text\", \"Selected_Text\", \"Selected_Text\", \"Selected_Text\", \"Selected_Text\", \"Selected_Text\", \"Selected_Text\", \"Selected_Text\", \"Selected_Text\", \"Selected_Text\", \"Selected_Text\", \"Selected_Text\", \"Selected_Text\", \"Selected_Text\", \"Selected_Text\", \"Selected_Text\", \"Selected_Text\", \"Selected_Text\", \"Selected_Text\", \"Selected_Text\", \"Selected_Text\", \"Selected_Text\", \"Selected_Text\", \"Selected_Text\", \"Selected_Text\", \"Selected_Text\", \"Selected_Text\", \"Selected_Text\", \"Selected_Text\", \"Selected_Text\", \"Selected_Text\", \"Selected_Text\", \"Selected_Text\", \"Selected_Text\", \"Selected_Text\", \"Selected_Text\", \"Selected_Text\", \"Selected_Text\", \"Selected_Text\", \"Selected_Text\", \"Selected_Text\", \"Selected_Text\", \"Selected_Text\", \"Selected_Text\", \"Selected_Text\", \"Selected_Text\", \"Selected_Text\", \"Selected_Text\", \"Selected_Text\", \"Selected_Text\", \"Selected_Text\", \"Selected_Text\", \"Selected_Text\", \"Selected_Text\", \"Selected_Text\", \"Selected_Text\", \"Selected_Text\", \"Selected_Text\", \"Selected_Text\", \"Selected_Text\", \"Selected_Text\", \"Selected_Text\", \"Selected_Text\", \"Selected_Text\", \"Selected_Text\", \"Selected_Text\", \"Selected_Text\", \"Selected_Text\", \"Selected_Text\", \"Selected_Text\", \"Selected_Text\", \"Selected_Text\", \"Selected_Text\", \"Selected_Text\", \"Selected_Text\", \"Selected_Text\", \"Selected_Text\", \"Selected_Text\", \"Selected_Text\", \"Selected_Text\", \"Selected_Text\", \"Selected_Text\", \"Selected_Text\", \"Selected_Text\", \"Selected_Text\", \"Selected_Text\", \"Selected_Text\", \"Selected_Text\", \"Selected_Text\", \"Selected_Text\", \"Selected_Text\", \"Selected_Text\", \"Selected_Text\", \"Selected_Text\", \"Selected_Text\", \"Selected_Text\", \"Selected_Text\", \"Selected_Text\", \"Selected_Text\", \"Selected_Text\", \"Selected_Text\", \"Selected_Text\", \"Selected_Text\", \"Selected_Text\", \"Selected_Text\", \"Selected_Text\", \"Selected_Text\", \"Selected_Text\", \"Selected_Text\", \"Selected_Text\", \"Selected_Text\", \"Selected_Text\", \"Selected_Text\", \"Selected_Text\", \"Selected_Text\", \"Selected_Text\", \"Selected_Text\", \"Selected_Text\", \"Selected_Text\", \"Selected_Text\", \"Selected_Text\", \"Selected_Text\", \"Selected_Text\", \"Selected_Text\", \"Selected_Text\", \"Selected_Text\", \"Selected_Text\", \"Selected_Text\", \"Selected_Text\", \"Selected_Text\", \"Selected_Text\", \"Selected_Text\", \"Selected_Text\", \"Selected_Text\", \"Selected_Text\", \"Selected_Text\", \"Selected_Text\", \"Selected_Text\", \"Selected_Text\", \"Selected_Text\", \"Selected_Text\", \"Selected_Text\", \"Selected_Text\", \"Selected_Text\", \"Selected_Text\", \"Selected_Text\", \"Selected_Text\", \"Selected_Text\", \"Selected_Text\", \"Selected_Text\", \"Selected_Text\", \"Selected_Text\", \"Selected_Text\", \"Selected_Text\", \"Selected_Text\", \"Selected_Text\", \"Selected_Text\", \"Selected_Text\", \"Selected_Text\", \"Selected_Text\", \"Selected_Text\", \"Selected_Text\", \"Selected_Text\", \"Selected_Text\", \"Selected_Text\", \"Selected_Text\", \"Selected_Text\", \"Selected_Text\", \"Selected_Text\", \"Selected_Text\", \"Selected_Text\", \"Selected_Text\", \"Selected_Text\", \"Selected_Text\", \"Selected_Text\", \"Selected_Text\", \"Selected_Text\", \"Selected_Text\", \"Selected_Text\", \"Selected_Text\", \"Selected_Text\", \"Selected_Text\", \"Selected_Text\", \"Selected_Text\", \"Selected_Text\", \"Selected_Text\", \"Selected_Text\", \"Selected_Text\", \"Selected_Text\", \"Selected_Text\", \"Selected_Text\", \"Selected_Text\", \"Selected_Text\", \"Selected_Text\", \"Selected_Text\", \"Selected_Text\", \"Selected_Text\", \"Selected_Text\", \"Selected_Text\", \"Selected_Text\", \"Selected_Text\", \"Selected_Text\", \"Selected_Text\", \"Selected_Text\", \"Selected_Text\", \"Selected_Text\", \"Selected_Text\", \"Selected_Text\", \"Selected_Text\", \"Selected_Text\", \"Selected_Text\", \"Selected_Text\", \"Selected_Text\", \"Selected_Text\", \"Selected_Text\", \"Selected_Text\", \"Selected_Text\", \"Selected_Text\", \"Selected_Text\", \"Selected_Text\", \"Selected_Text\", \"Selected_Text\", \"Selected_Text\", \"Selected_Text\", \"Selected_Text\", \"Selected_Text\", \"Selected_Text\", \"Selected_Text\", \"Selected_Text\", \"Selected_Text\", \"Selected_Text\", \"Selected_Text\", \"Selected_Text\", \"Selected_Text\", \"Selected_Text\", \"Selected_Text\", \"Selected_Text\", \"Selected_Text\", \"Selected_Text\", \"Selected_Text\", \"Selected_Text\", \"Selected_Text\", \"Selected_Text\", \"Selected_Text\", \"Selected_Text\", \"Selected_Text\", \"Selected_Text\", \"Selected_Text\", \"Selected_Text\", \"Selected_Text\", \"Selected_Text\", \"Selected_Text\", \"Selected_Text\", \"Selected_Text\", \"Selected_Text\", \"Selected_Text\", \"Selected_Text\", \"Selected_Text\", \"Selected_Text\", \"Selected_Text\", \"Selected_Text\", \"Selected_Text\", \"Selected_Text\", \"Selected_Text\", \"Selected_Text\", \"Selected_Text\", \"Selected_Text\", \"Selected_Text\", \"Selected_Text\", \"Selected_Text\", \"Selected_Text\", \"Selected_Text\", \"Selected_Text\", \"Selected_Text\", \"Selected_Text\", \"Selected_Text\", \"Selected_Text\", \"Selected_Text\", \"Selected_Text\", \"Selected_Text\", \"Selected_Text\", \"Selected_Text\", \"Selected_Text\", \"Selected_Text\", \"Selected_Text\", \"Selected_Text\", \"Selected_Text\", \"Selected_Text\", \"Selected_Text\", \"Selected_Text\", \"Selected_Text\", \"Selected_Text\", \"Selected_Text\", \"Selected_Text\", \"Selected_Text\", \"Selected_Text\", \"Selected_Text\", \"Selected_Text\", \"Selected_Text\", \"Selected_Text\", \"Selected_Text\", \"Selected_Text\", \"Selected_Text\", \"Selected_Text\", \"Selected_Text\", \"Selected_Text\", \"Selected_Text\", \"Selected_Text\", \"Selected_Text\", \"Selected_Text\", \"Selected_Text\", \"Selected_Text\", \"Selected_Text\", \"Selected_Text\", \"Selected_Text\", \"Selected_Text\", \"Selected_Text\", \"Selected_Text\", \"Selected_Text\", \"Selected_Text\", \"Selected_Text\", \"Selected_Text\", \"Selected_Text\", \"Selected_Text\", \"Selected_Text\", \"Selected_Text\", \"Selected_Text\", \"Selected_Text\", \"Selected_Text\", \"Selected_Text\", \"Selected_Text\", \"Selected_Text\", \"Selected_Text\", \"Selected_Text\", \"Selected_Text\", \"Selected_Text\", \"Selected_Text\", \"Selected_Text\", \"Selected_Text\", \"Selected_Text\", \"Selected_Text\", \"Selected_Text\", \"Selected_Text\", \"Selected_Text\", \"Selected_Text\", \"Selected_Text\", \"Selected_Text\", \"Selected_Text\", \"Selected_Text\", \"Selected_Text\", \"Selected_Text\", \"Selected_Text\", \"Selected_Text\", \"Selected_Text\", \"Selected_Text\", \"Selected_Text\", \"Selected_Text\", \"Selected_Text\", \"Selected_Text\", \"Selected_Text\", \"Selected_Text\", \"Selected_Text\", \"Selected_Text\", \"Selected_Text\", \"Selected_Text\", \"Selected_Text\", \"Selected_Text\", \"Selected_Text\", \"Selected_Text\", \"Selected_Text\", \"Selected_Text\", \"Selected_Text\", \"Selected_Text\", \"Selected_Text\", \"Selected_Text\", \"Selected_Text\", \"Selected_Text\", \"Selected_Text\", \"Selected_Text\", \"Selected_Text\", \"Selected_Text\", \"Selected_Text\", \"Selected_Text\", \"Selected_Text\", \"Selected_Text\", \"Selected_Text\", \"Selected_Text\", \"Selected_Text\", \"Selected_Text\", \"Selected_Text\", \"Selected_Text\", \"Selected_Text\", \"Selected_Text\", \"Selected_Text\", \"Selected_Text\", \"Selected_Text\", \"Selected_Text\", \"Selected_Text\", \"Selected_Text\", \"Selected_Text\", \"Selected_Text\", \"Selected_Text\", \"Selected_Text\", \"Selected_Text\", \"Selected_Text\", \"Selected_Text\", \"Selected_Text\", \"Selected_Text\", \"Selected_Text\", \"Selected_Text\", \"Selected_Text\", \"Selected_Text\", \"Selected_Text\", \"Selected_Text\", \"Selected_Text\", \"Selected_Text\", \"Selected_Text\", \"Selected_Text\", \"Selected_Text\", \"Selected_Text\", \"Selected_Text\"], \"yaxis\": \"y2\"}, {\"legendgroup\": \"Text\", \"marker\": {\"color\": \"rgb(255, 127, 14)\", \"symbol\": \"line-ns-open\"}, \"mode\": \"markers\", \"name\": \"Text\", \"showlegend\": false, \"type\": \"scatter\", \"x\": [9, 9, 3, 17, 12, 7, 6, 11, 6, 3, 11, 13, 12, 11, 6, 6, 3, 2, 11, 8, 4, 10, 9, 7, 2, 2, 7, 1, 14, 7, 10, 29, 9, 3, 13, 6, 2, 4, 3, 6, 3, 7, 10, 12, 6, 8, 18, 9, 9, 4, 10, 8, 6, 6, 11, 16, 3, 10, 4, 14, 6, 2, 4, 9, 7, 9, 5, 10, 15, 5, 6, 7, 2, 6, 8, 5, 6, 9, 11, 4, 13, 4, 7, 4, 5, 6, 17, 22, 13, 3, 8, 2, 17, 4, 3, 5, 4, 5, 18, 20, 30, 8, 7, 26, 10, 9, 13, 5, 18, 13, 7, 7, 2, 4, 2, 4, 21, 9, 7, 7, 10, 3, 9, 2, 4, 4, 4, 5, 11, 15, 7, 3, 18, 6, 2, 8, 10, 5, 11, 4, 5, 5, 3, 5, 12, 7, 4, 12, 6, 7, 10, 4, 5, 6, 6, 9, 9, 7, 12, 4, 6, 15, 13, 11, 7, 12, 14, 2, 5, 5, 5, 8, 4, 14, 16, 10, 20, 14, 16, 6, 24, 3, 12, 3, 7, 12, 4, 5, 3, 14, 3, 7, 3, 2, 9, 15, 6, 11, 5, 4, 23, 2, 11, 5, 4, 17, 5, 9, 23, 12, 2, 7, 4, 8, 12, 7, 8, 13, 9, 7, 6, 3, 11, 13, 5, 3, 18, 7, 14, 17, 6, 11, 1, 7, 1, 14, 1, 4, 6, 8, 6, 5, 5, 9, 8, 18, 4, 4, 7, 3, 6, 21, 13, 3, 5, 13, 4, 6, 6, 4, 9, 4, 8, 8, 8, 8, 8, 7, 12, 11, 7, 9, 3, 11, 13, 12, 10, 9, 3, 9, 8, 5, 13, 14, 7, 3, 6, 5, 8, 6, 2, 2, 9, 10, 11, 7, 6, 20, 3, 3, 7, 11, 15, 3, 7, 9, 12, 2, 3, 17, 7, 11, 13, 7, 2, 10, 5, 7, 16, 8, 6, 13, 14, 4, 12, 4, 10, 4, 3, 13, 10, 2, 12, 5, 19, 10, 12, 16, 11, 15, 4, 5, 8, 11, 19, 11, 8, 33, 11, 7, 14, 5, 19, 8, 20, 12, 9, 14, 4, 9, 5, 19, 12, 10, 13, 4, 6, 10, 8, 9, 9, 8, 13, 9, 14, 16, 2, 21, 6, 6, 17, 2, 17, 17, 9, 5, 7, 6, 5, 6, 4, 17, 14, 6, 4, 14, 15, 15, 9, 8, 9, 4, 8, 11, 6, 4, 6, 10, 9, 7, 11, 4, 7, 5, 15, 19, 19, 17, 13, 4, 6, 6, 18, 9, 4, 4, 4, 5, 7, 8, 2, 1, 3, 20, 11, 5, 6, 5, 4, 3, 2, 14, 7, 6, 12, 16, 5, 13, 6, 3, 4, 9, 8, 4, 7, 16, 8, 10, 5, 9, 6, 12, 7, 10, 39, 7, 17, 9, 15, 3, 3, 6, 6, 3, 27, 9, 5, 9, 13, 15, 18, 1, 11, 6, 9, 10, 6, 3, 13, 5, 9, 6, 8, 8, 4, 14, 6, 5, 38, 13, 6, 4, 5, 9, 8, 4, 12, 5, 21, 7, 10, 15, 6, 5, 7, 5, 7, 12, 5, 18, 6, 5, 8, 5, 11, 18, 8, 7, 11, 6, 4, 12, 2, 8, 9, 6, 6, 22, 2, 9, 6, 8, 15, 11, 10, 2, 9, 5, 8, 8, 11, 4, 7, 11, 16, 10, 10, 11, 10, 13, 10, 13, 8, 9, 11, 23, 4, 2, 6, 12, 3, 3, 4, 2, 48, 10, 6, 11, 8, 6, 20, 5, 6, 11, 9, 7, 12, 15, 15, 9, 10, 4, 13, 9, 7, 5, 4, 6, 6, 6, 8, 10, 9, 7, 4, 13, 27, 1, 9, 10, 10, 6, 8, 7, 6, 8, 8, 36, 7, 8, 19, 11, 13, 7, 3, 3, 7, 5, 15, 5, 19, 8, 7, 6, 7, 10, 4, 3, 7, 15, 12, 4, 6, 12, 6, 7, 9, 8, 13, 4, 4, 5, 9, 5, 28, 6, 7, 17, 5, 10, 7, 3, 12, 6, 12, 10, 15, 3, 7, 2, 3, 4, 6, 24, 2, 9, 11, 2], \"xaxis\": \"x\", \"y\": [\"Text\", \"Text\", \"Text\", \"Text\", \"Text\", \"Text\", \"Text\", \"Text\", \"Text\", \"Text\", \"Text\", \"Text\", \"Text\", \"Text\", \"Text\", \"Text\", \"Text\", \"Text\", \"Text\", \"Text\", \"Text\", \"Text\", \"Text\", \"Text\", \"Text\", \"Text\", \"Text\", \"Text\", \"Text\", \"Text\", \"Text\", \"Text\", \"Text\", \"Text\", \"Text\", \"Text\", \"Text\", \"Text\", \"Text\", \"Text\", \"Text\", \"Text\", \"Text\", \"Text\", \"Text\", \"Text\", \"Text\", \"Text\", \"Text\", \"Text\", \"Text\", \"Text\", \"Text\", \"Text\", \"Text\", \"Text\", \"Text\", \"Text\", \"Text\", \"Text\", \"Text\", \"Text\", \"Text\", \"Text\", \"Text\", \"Text\", \"Text\", \"Text\", \"Text\", \"Text\", \"Text\", \"Text\", \"Text\", \"Text\", \"Text\", \"Text\", \"Text\", \"Text\", \"Text\", \"Text\", \"Text\", \"Text\", \"Text\", \"Text\", \"Text\", \"Text\", \"Text\", \"Text\", \"Text\", \"Text\", \"Text\", \"Text\", \"Text\", \"Text\", \"Text\", \"Text\", \"Text\", \"Text\", \"Text\", \"Text\", \"Text\", \"Text\", \"Text\", \"Text\", \"Text\", \"Text\", \"Text\", \"Text\", \"Text\", \"Text\", \"Text\", \"Text\", \"Text\", \"Text\", \"Text\", \"Text\", \"Text\", \"Text\", \"Text\", \"Text\", \"Text\", \"Text\", \"Text\", \"Text\", \"Text\", \"Text\", \"Text\", \"Text\", \"Text\", \"Text\", \"Text\", \"Text\", \"Text\", \"Text\", \"Text\", \"Text\", \"Text\", \"Text\", \"Text\", \"Text\", \"Text\", \"Text\", \"Text\", \"Text\", \"Text\", \"Text\", \"Text\", \"Text\", \"Text\", \"Text\", \"Text\", \"Text\", \"Text\", \"Text\", \"Text\", \"Text\", \"Text\", \"Text\", \"Text\", \"Text\", \"Text\", \"Text\", \"Text\", \"Text\", \"Text\", \"Text\", \"Text\", \"Text\", \"Text\", \"Text\", \"Text\", \"Text\", \"Text\", \"Text\", \"Text\", \"Text\", \"Text\", \"Text\", \"Text\", \"Text\", \"Text\", \"Text\", \"Text\", \"Text\", \"Text\", \"Text\", \"Text\", \"Text\", \"Text\", \"Text\", \"Text\", \"Text\", \"Text\", \"Text\", \"Text\", \"Text\", \"Text\", \"Text\", \"Text\", \"Text\", \"Text\", \"Text\", \"Text\", \"Text\", \"Text\", \"Text\", \"Text\", \"Text\", \"Text\", \"Text\", \"Text\", \"Text\", \"Text\", \"Text\", \"Text\", \"Text\", \"Text\", \"Text\", \"Text\", \"Text\", \"Text\", \"Text\", \"Text\", \"Text\", \"Text\", \"Text\", \"Text\", \"Text\", \"Text\", \"Text\", \"Text\", \"Text\", \"Text\", \"Text\", \"Text\", \"Text\", \"Text\", \"Text\", \"Text\", \"Text\", \"Text\", \"Text\", \"Text\", \"Text\", \"Text\", \"Text\", \"Text\", \"Text\", \"Text\", \"Text\", \"Text\", \"Text\", \"Text\", \"Text\", \"Text\", \"Text\", \"Text\", \"Text\", \"Text\", \"Text\", \"Text\", \"Text\", \"Text\", \"Text\", \"Text\", \"Text\", \"Text\", \"Text\", \"Text\", \"Text\", \"Text\", \"Text\", \"Text\", \"Text\", \"Text\", \"Text\", \"Text\", \"Text\", \"Text\", \"Text\", \"Text\", \"Text\", \"Text\", \"Text\", \"Text\", \"Text\", \"Text\", \"Text\", \"Text\", \"Text\", \"Text\", \"Text\", \"Text\", \"Text\", \"Text\", \"Text\", \"Text\", \"Text\", \"Text\", \"Text\", \"Text\", \"Text\", \"Text\", \"Text\", \"Text\", \"Text\", \"Text\", \"Text\", \"Text\", \"Text\", \"Text\", \"Text\", \"Text\", \"Text\", \"Text\", \"Text\", \"Text\", \"Text\", \"Text\", \"Text\", \"Text\", \"Text\", \"Text\", \"Text\", \"Text\", \"Text\", \"Text\", \"Text\", \"Text\", \"Text\", \"Text\", \"Text\", \"Text\", \"Text\", \"Text\", \"Text\", \"Text\", \"Text\", \"Text\", \"Text\", \"Text\", \"Text\", \"Text\", \"Text\", \"Text\", \"Text\", \"Text\", \"Text\", \"Text\", \"Text\", \"Text\", \"Text\", \"Text\", \"Text\", \"Text\", \"Text\", \"Text\", \"Text\", \"Text\", \"Text\", \"Text\", \"Text\", \"Text\", \"Text\", \"Text\", \"Text\", \"Text\", \"Text\", \"Text\", \"Text\", \"Text\", \"Text\", \"Text\", \"Text\", \"Text\", \"Text\", \"Text\", \"Text\", \"Text\", \"Text\", \"Text\", \"Text\", \"Text\", \"Text\", \"Text\", \"Text\", \"Text\", \"Text\", \"Text\", \"Text\", \"Text\", \"Text\", \"Text\", \"Text\", \"Text\", \"Text\", \"Text\", \"Text\", \"Text\", \"Text\", \"Text\", \"Text\", \"Text\", \"Text\", \"Text\", \"Text\", \"Text\", \"Text\", \"Text\", \"Text\", \"Text\", \"Text\", \"Text\", \"Text\", \"Text\", \"Text\", \"Text\", \"Text\", \"Text\", \"Text\", \"Text\", \"Text\", \"Text\", \"Text\", \"Text\", \"Text\", \"Text\", \"Text\", \"Text\", \"Text\", \"Text\", \"Text\", \"Text\", \"Text\", \"Text\", \"Text\", \"Text\", \"Text\", \"Text\", \"Text\", \"Text\", \"Text\", \"Text\", \"Text\", \"Text\", \"Text\", \"Text\", \"Text\", \"Text\", \"Text\", \"Text\", \"Text\", \"Text\", \"Text\", \"Text\", \"Text\", \"Text\", \"Text\", \"Text\", \"Text\", \"Text\", \"Text\", \"Text\", \"Text\", \"Text\", \"Text\", \"Text\", \"Text\", \"Text\", \"Text\", \"Text\", \"Text\", \"Text\", \"Text\", \"Text\", \"Text\", \"Text\", \"Text\", \"Text\", \"Text\", \"Text\", \"Text\", \"Text\", \"Text\", \"Text\", \"Text\", \"Text\", \"Text\", \"Text\", \"Text\", \"Text\", \"Text\", \"Text\", \"Text\", \"Text\", \"Text\", \"Text\", \"Text\", \"Text\", \"Text\", \"Text\", \"Text\", \"Text\", \"Text\", \"Text\", \"Text\", \"Text\", \"Text\", \"Text\", \"Text\", \"Text\", \"Text\", \"Text\", \"Text\", \"Text\", \"Text\", \"Text\", \"Text\", \"Text\", \"Text\", \"Text\", \"Text\", \"Text\", \"Text\", \"Text\", \"Text\", \"Text\", \"Text\", \"Text\", \"Text\", \"Text\", \"Text\", \"Text\", \"Text\", \"Text\", \"Text\", \"Text\", \"Text\", \"Text\", \"Text\", \"Text\", \"Text\", \"Text\", \"Text\", \"Text\", \"Text\", \"Text\", \"Text\", \"Text\", \"Text\", \"Text\", \"Text\", \"Text\", \"Text\", \"Text\", \"Text\", \"Text\", \"Text\", \"Text\", \"Text\", \"Text\", \"Text\", \"Text\", \"Text\", \"Text\", \"Text\", \"Text\", \"Text\", \"Text\", \"Text\", \"Text\", \"Text\", \"Text\", \"Text\", \"Text\", \"Text\", \"Text\", \"Text\", \"Text\", \"Text\", \"Text\", \"Text\", \"Text\", \"Text\", \"Text\", \"Text\", \"Text\", \"Text\", \"Text\", \"Text\", \"Text\", \"Text\", \"Text\", \"Text\", \"Text\", \"Text\", \"Text\", \"Text\", \"Text\", \"Text\", \"Text\", \"Text\", \"Text\", \"Text\", \"Text\", \"Text\", \"Text\", \"Text\", \"Text\", \"Text\", \"Text\", \"Text\", \"Text\", \"Text\", \"Text\", \"Text\", \"Text\", \"Text\", \"Text\", \"Text\", \"Text\", \"Text\", \"Text\", \"Text\", \"Text\", \"Text\", \"Text\", \"Text\", \"Text\", \"Text\", \"Text\", \"Text\", \"Text\", \"Text\", \"Text\", \"Text\", \"Text\", \"Text\", \"Text\", \"Text\", \"Text\", \"Text\", \"Text\", \"Text\", \"Text\", \"Text\", \"Text\", \"Text\", \"Text\", \"Text\", \"Text\", \"Text\", \"Text\", \"Text\", \"Text\", \"Text\", \"Text\", \"Text\", \"Text\", \"Text\", \"Text\", \"Text\", \"Text\", \"Text\", \"Text\", \"Text\", \"Text\", \"Text\", \"Text\", \"Text\", \"Text\", \"Text\", \"Text\", \"Text\", \"Text\", \"Text\", \"Text\", \"Text\"], \"yaxis\": \"y2\"}],\n",
              "                        {\"autosize\": false, \"barmode\": \"overlay\", \"height\": 700, \"hovermode\": \"closest\", \"legend\": {\"traceorder\": \"reversed\"}, \"paper_bgcolor\": \"LightSteelBlue\", \"template\": {\"data\": {\"bar\": [{\"error_x\": {\"color\": \"#2a3f5f\"}, \"error_y\": {\"color\": \"#2a3f5f\"}, \"marker\": {\"line\": {\"color\": \"#E5ECF6\", \"width\": 0.5}}, \"type\": \"bar\"}], \"barpolar\": [{\"marker\": {\"line\": {\"color\": \"#E5ECF6\", \"width\": 0.5}}, \"type\": \"barpolar\"}], \"carpet\": [{\"aaxis\": {\"endlinecolor\": \"#2a3f5f\", \"gridcolor\": \"white\", \"linecolor\": \"white\", \"minorgridcolor\": \"white\", \"startlinecolor\": \"#2a3f5f\"}, \"baxis\": {\"endlinecolor\": \"#2a3f5f\", \"gridcolor\": \"white\", \"linecolor\": \"white\", \"minorgridcolor\": \"white\", \"startlinecolor\": \"#2a3f5f\"}, \"type\": \"carpet\"}], \"choropleth\": [{\"colorbar\": {\"outlinewidth\": 0, \"ticks\": \"\"}, \"type\": \"choropleth\"}], \"contour\": [{\"colorbar\": {\"outlinewidth\": 0, \"ticks\": \"\"}, \"colorscale\": [[0.0, \"#0d0887\"], [0.1111111111111111, \"#46039f\"], [0.2222222222222222, \"#7201a8\"], [0.3333333333333333, \"#9c179e\"], [0.4444444444444444, \"#bd3786\"], [0.5555555555555556, \"#d8576b\"], [0.6666666666666666, \"#ed7953\"], [0.7777777777777778, \"#fb9f3a\"], [0.8888888888888888, \"#fdca26\"], [1.0, \"#f0f921\"]], \"type\": \"contour\"}], \"contourcarpet\": [{\"colorbar\": {\"outlinewidth\": 0, \"ticks\": \"\"}, \"type\": \"contourcarpet\"}], \"heatmap\": [{\"colorbar\": {\"outlinewidth\": 0, \"ticks\": \"\"}, \"colorscale\": [[0.0, \"#0d0887\"], [0.1111111111111111, \"#46039f\"], [0.2222222222222222, \"#7201a8\"], [0.3333333333333333, \"#9c179e\"], [0.4444444444444444, \"#bd3786\"], [0.5555555555555556, \"#d8576b\"], [0.6666666666666666, \"#ed7953\"], [0.7777777777777778, \"#fb9f3a\"], [0.8888888888888888, \"#fdca26\"], [1.0, \"#f0f921\"]], \"type\": \"heatmap\"}], \"heatmapgl\": [{\"colorbar\": {\"outlinewidth\": 0, \"ticks\": \"\"}, \"colorscale\": [[0.0, \"#0d0887\"], [0.1111111111111111, \"#46039f\"], [0.2222222222222222, \"#7201a8\"], [0.3333333333333333, \"#9c179e\"], [0.4444444444444444, \"#bd3786\"], [0.5555555555555556, \"#d8576b\"], [0.6666666666666666, \"#ed7953\"], [0.7777777777777778, \"#fb9f3a\"], [0.8888888888888888, \"#fdca26\"], [1.0, \"#f0f921\"]], \"type\": \"heatmapgl\"}], \"histogram\": [{\"marker\": {\"colorbar\": {\"outlinewidth\": 0, \"ticks\": \"\"}}, \"type\": \"histogram\"}], \"histogram2d\": [{\"colorbar\": {\"outlinewidth\": 0, \"ticks\": \"\"}, \"colorscale\": [[0.0, \"#0d0887\"], [0.1111111111111111, \"#46039f\"], [0.2222222222222222, \"#7201a8\"], [0.3333333333333333, \"#9c179e\"], [0.4444444444444444, \"#bd3786\"], [0.5555555555555556, \"#d8576b\"], [0.6666666666666666, \"#ed7953\"], [0.7777777777777778, \"#fb9f3a\"], [0.8888888888888888, \"#fdca26\"], [1.0, \"#f0f921\"]], \"type\": \"histogram2d\"}], \"histogram2dcontour\": [{\"colorbar\": {\"outlinewidth\": 0, \"ticks\": \"\"}, \"colorscale\": [[0.0, \"#0d0887\"], [0.1111111111111111, \"#46039f\"], [0.2222222222222222, \"#7201a8\"], [0.3333333333333333, \"#9c179e\"], [0.4444444444444444, \"#bd3786\"], [0.5555555555555556, \"#d8576b\"], [0.6666666666666666, \"#ed7953\"], [0.7777777777777778, \"#fb9f3a\"], [0.8888888888888888, \"#fdca26\"], [1.0, \"#f0f921\"]], \"type\": \"histogram2dcontour\"}], \"mesh3d\": [{\"colorbar\": {\"outlinewidth\": 0, \"ticks\": \"\"}, \"type\": \"mesh3d\"}], \"parcoords\": [{\"line\": {\"colorbar\": {\"outlinewidth\": 0, \"ticks\": \"\"}}, \"type\": \"parcoords\"}], \"pie\": [{\"automargin\": true, \"type\": \"pie\"}], \"scatter\": [{\"marker\": {\"colorbar\": {\"outlinewidth\": 0, \"ticks\": \"\"}}, \"type\": \"scatter\"}], \"scatter3d\": [{\"line\": {\"colorbar\": {\"outlinewidth\": 0, \"ticks\": \"\"}}, \"marker\": {\"colorbar\": {\"outlinewidth\": 0, \"ticks\": \"\"}}, \"type\": \"scatter3d\"}], \"scattercarpet\": [{\"marker\": {\"colorbar\": {\"outlinewidth\": 0, \"ticks\": \"\"}}, \"type\": \"scattercarpet\"}], \"scattergeo\": [{\"marker\": {\"colorbar\": {\"outlinewidth\": 0, \"ticks\": \"\"}}, \"type\": \"scattergeo\"}], \"scattergl\": [{\"marker\": {\"colorbar\": {\"outlinewidth\": 0, \"ticks\": \"\"}}, \"type\": \"scattergl\"}], \"scattermapbox\": [{\"marker\": {\"colorbar\": {\"outlinewidth\": 0, \"ticks\": \"\"}}, \"type\": \"scattermapbox\"}], \"scatterpolar\": [{\"marker\": {\"colorbar\": {\"outlinewidth\": 0, \"ticks\": \"\"}}, \"type\": \"scatterpolar\"}], \"scatterpolargl\": [{\"marker\": {\"colorbar\": {\"outlinewidth\": 0, \"ticks\": \"\"}}, \"type\": \"scatterpolargl\"}], \"scatterternary\": [{\"marker\": {\"colorbar\": {\"outlinewidth\": 0, \"ticks\": \"\"}}, \"type\": \"scatterternary\"}], \"surface\": [{\"colorbar\": {\"outlinewidth\": 0, \"ticks\": \"\"}, \"colorscale\": [[0.0, \"#0d0887\"], [0.1111111111111111, \"#46039f\"], [0.2222222222222222, \"#7201a8\"], [0.3333333333333333, \"#9c179e\"], [0.4444444444444444, \"#bd3786\"], [0.5555555555555556, \"#d8576b\"], [0.6666666666666666, \"#ed7953\"], [0.7777777777777778, \"#fb9f3a\"], [0.8888888888888888, \"#fdca26\"], [1.0, \"#f0f921\"]], \"type\": \"surface\"}], \"table\": [{\"cells\": {\"fill\": {\"color\": \"#EBF0F8\"}, \"line\": {\"color\": \"white\"}}, \"header\": {\"fill\": {\"color\": \"#C8D4E3\"}, \"line\": {\"color\": \"white\"}}, \"type\": \"table\"}]}, \"layout\": {\"annotationdefaults\": {\"arrowcolor\": \"#2a3f5f\", \"arrowhead\": 0, \"arrowwidth\": 1}, \"coloraxis\": {\"colorbar\": {\"outlinewidth\": 0, \"ticks\": \"\"}}, \"colorscale\": {\"diverging\": [[0, \"#8e0152\"], [0.1, \"#c51b7d\"], [0.2, \"#de77ae\"], [0.3, \"#f1b6da\"], [0.4, \"#fde0ef\"], [0.5, \"#f7f7f7\"], [0.6, \"#e6f5d0\"], [0.7, \"#b8e186\"], [0.8, \"#7fbc41\"], [0.9, \"#4d9221\"], [1, \"#276419\"]], \"sequential\": [[0.0, \"#0d0887\"], [0.1111111111111111, \"#46039f\"], [0.2222222222222222, \"#7201a8\"], [0.3333333333333333, \"#9c179e\"], [0.4444444444444444, \"#bd3786\"], [0.5555555555555556, \"#d8576b\"], [0.6666666666666666, \"#ed7953\"], [0.7777777777777778, \"#fb9f3a\"], [0.8888888888888888, \"#fdca26\"], [1.0, \"#f0f921\"]], \"sequentialminus\": [[0.0, \"#0d0887\"], [0.1111111111111111, \"#46039f\"], [0.2222222222222222, \"#7201a8\"], [0.3333333333333333, \"#9c179e\"], [0.4444444444444444, \"#bd3786\"], [0.5555555555555556, \"#d8576b\"], [0.6666666666666666, \"#ed7953\"], [0.7777777777777778, \"#fb9f3a\"], [0.8888888888888888, \"#fdca26\"], [1.0, \"#f0f921\"]]}, \"colorway\": [\"#636efa\", \"#EF553B\", \"#00cc96\", \"#ab63fa\", \"#FFA15A\", \"#19d3f3\", \"#FF6692\", \"#B6E880\", \"#FF97FF\", \"#FECB52\"], \"font\": {\"color\": \"#2a3f5f\"}, \"geo\": {\"bgcolor\": \"white\", \"lakecolor\": \"white\", \"landcolor\": \"#E5ECF6\", \"showlakes\": true, \"showland\": true, \"subunitcolor\": \"white\"}, \"hoverlabel\": {\"align\": \"left\"}, \"hovermode\": \"closest\", \"mapbox\": {\"style\": \"light\"}, \"paper_bgcolor\": \"white\", \"plot_bgcolor\": \"#E5ECF6\", \"polar\": {\"angularaxis\": {\"gridcolor\": \"white\", \"linecolor\": \"white\", \"ticks\": \"\"}, \"bgcolor\": \"#E5ECF6\", \"radialaxis\": {\"gridcolor\": \"white\", \"linecolor\": \"white\", \"ticks\": \"\"}}, \"scene\": {\"xaxis\": {\"backgroundcolor\": \"#E5ECF6\", \"gridcolor\": \"white\", \"gridwidth\": 2, \"linecolor\": \"white\", \"showbackground\": true, \"ticks\": \"\", \"zerolinecolor\": \"white\"}, \"yaxis\": {\"backgroundcolor\": \"#E5ECF6\", \"gridcolor\": \"white\", \"gridwidth\": 2, \"linecolor\": \"white\", \"showbackground\": true, \"ticks\": \"\", \"zerolinecolor\": \"white\"}, \"zaxis\": {\"backgroundcolor\": \"#E5ECF6\", \"gridcolor\": \"white\", \"gridwidth\": 2, \"linecolor\": \"white\", \"showbackground\": true, \"ticks\": \"\", \"zerolinecolor\": \"white\"}}, \"shapedefaults\": {\"line\": {\"color\": \"#2a3f5f\"}}, \"ternary\": {\"aaxis\": {\"gridcolor\": \"white\", \"linecolor\": \"white\", \"ticks\": \"\"}, \"baxis\": {\"gridcolor\": \"white\", \"linecolor\": \"white\", \"ticks\": \"\"}, \"bgcolor\": \"#E5ECF6\", \"caxis\": {\"gridcolor\": \"white\", \"linecolor\": \"white\", \"ticks\": \"\"}}, \"title\": {\"x\": 0.05}, \"xaxis\": {\"automargin\": true, \"gridcolor\": \"white\", \"linecolor\": \"white\", \"ticks\": \"\", \"title\": {\"standoff\": 15}, \"zerolinecolor\": \"white\", \"zerolinewidth\": 2}, \"yaxis\": {\"automargin\": true, \"gridcolor\": \"white\", \"linecolor\": \"white\", \"ticks\": \"\", \"title\": {\"standoff\": 15}, \"zerolinecolor\": \"white\", \"zerolinewidth\": 2}}}, \"title\": {\"text\": \"Distribution of Number Of words\"}, \"width\": 900, \"xaxis\": {\"anchor\": \"y2\", \"domain\": [0.0, 1.0], \"zeroline\": false}, \"yaxis\": {\"anchor\": \"free\", \"domain\": [0.35, 1], \"position\": 0.0}, \"yaxis2\": {\"anchor\": \"x\", \"domain\": [0, 0.25], \"dtick\": 1, \"showticklabels\": false}},\n",
              "                        {\"responsive\": true}\n",
              "                    ).then(function(){\n",
              "                            \n",
              "var gd = document.getElementById('e0bb6c8d-19f0-4ecf-a992-1eb97438076c');\n",
              "var x = new MutationObserver(function (mutations, observer) {{\n",
              "        var display = window.getComputedStyle(gd).display;\n",
              "        if (!display || display === 'none') {{\n",
              "            console.log([gd, 'removed!']);\n",
              "            Plotly.purge(gd);\n",
              "            observer.disconnect();\n",
              "        }}\n",
              "}});\n",
              "\n",
              "// Listen for the removal of the full notebook cells\n",
              "var notebookContainer = gd.closest('#notebook-container');\n",
              "if (notebookContainer) {{\n",
              "    x.observe(notebookContainer, {childList: true});\n",
              "}}\n",
              "\n",
              "// Listen for the clearing of the current output cell\n",
              "var outputEl = gd.closest('.output');\n",
              "if (outputEl) {{\n",
              "    x.observe(outputEl, {childList: true});\n",
              "}}\n",
              "\n",
              "                        })\n",
              "                };\n",
              "                \n",
              "            </script>\n",
              "        </div>\n",
              "</body>\n",
              "</html>"
            ]
          },
          "metadata": {
            "tags": []
          }
        }
      ]
    },
    {
      "cell_type": "code",
      "metadata": {
        "id": "P_IIvx-Y8gZZ",
        "colab": {
          "base_uri": "https://localhost:8080/",
          "height": 405
        },
        "outputId": "eb3a2664-fecd-4a94-ad34-a9d49b1530ab"
      },
      "source": [
        "plt.figure(figsize=(12,6))\n",
        "p1=sns.kdeplot(train['Num_words_ST'], shade=True, color=\"r\").set_title('Kernel Distribution of Number Of words')\n",
        "p1=sns.kdeplot(train['Num_word_text'], shade=True, color=\"b\")"
      ],
      "execution_count": null,
      "outputs": [
        {
          "output_type": "display_data",
          "data": {
            "image/png": "[encoded data removed]",
            "text/plain": [
              "<Figure size 864x432 with 1 Axes>"
            ]
          },
          "metadata": {
            "tags": [],
            "needs_background": "light"
          }
        }
      ]
    },
    {
      "cell_type": "code",
      "metadata": {
        "id": "oNHc_ZkB9Fut",
        "colab": {
          "base_uri": "https://localhost:8080/",
          "height": 405
        },
        "outputId": "0c3d6130-c070-49d4-e8b7-a6bfd009f8a6"
      },
      "source": [
        "plt.figure(figsize=(12,6))\n",
        "p1=sns.kdeplot(train[train['sentiment']=='positive']['difference_in_words'], shade=True, color=\"b\").set_title('Kernel Distribution of Difference in Number Of words')\n",
        "p2=sns.kdeplot(train[train['sentiment']=='negative']['difference_in_words'], shade=True, color=\"r\")"
      ],
      "execution_count": null,
      "outputs": [
        {
          "output_type": "display_data",
          "data": {
            "image/png": "[encoded data removed]",
            "text/plain": [
              "<Figure size 864x432 with 1 Axes>"
            ]
          },
          "metadata": {
            "tags": [],
            "needs_background": "light"
          }
        }
      ]
    },
    {
      "cell_type": "code",
      "metadata": {
        "id": "gnpPQ3R7-T-K",
        "colab": {
          "base_uri": "https://localhost:8080/",
          "height": 408
        },
        "outputId": "daa54efe-4ba5-4685-c33d-46a9d32163b1"
      },
      "source": [
        "plt.figure(figsize=(12,6))\n",
        "sns.distplot(train[train['sentiment']=='neutral']['difference_in_words'],kde=False)"
      ],
      "execution_count": null,
      "outputs": [
        {
          "output_type": "execute_result",
          "data": {
            "text/plain": [
              "<matplotlib.axes._subplots.AxesSubplot at 0x7fe21c0736d0>"
            ]
          },
          "metadata": {
            "tags": []
          },
          "execution_count": 384
        },
        {
          "output_type": "display_data",
          "data": {
            "image/png": "[encoded data removed]",
            "text/plain": [
              "<Figure size 864x432 with 1 Axes>"
            ]
          },
          "metadata": {
            "tags": [],
            "needs_background": "light"
          }
        }
      ]
    },
    {
      "cell_type": "code",
      "metadata": {
        "id": "4ZFwy7X4-XSA",
        "colab": {
          "base_uri": "https://localhost:8080/",
          "height": 424
        },
        "outputId": "34a35485-5632-449f-9031-bbbb8dd1d2b4"
      },
      "source": [
        "plt.figure(figsize=(12,6))\n",
        "p1=sns.kdeplot(train[train['sentiment']=='positive']['jaccard_score'], shade=True, color=\"b\").set_title('KDE of Jaccard Scores across different Sentiments')\n",
        "p2=sns.kdeplot(train[train['sentiment']=='negative']['jaccard_score'], shade=True, color=\"r\")\n",
        "plt.legend(labels=['positive','negative'])"
      ],
      "execution_count": null,
      "outputs": [
        {
          "output_type": "execute_result",
          "data": {
            "text/plain": [
              "<matplotlib.legend.Legend at 0x7fe21c2355d0>"
            ]
          },
          "metadata": {
            "tags": []
          },
          "execution_count": 385
        },
        {
          "output_type": "display_data",
          "data": {
            "image/png": "[encoded data removed]",
            "text/plain": [
              "<Figure size 864x432 with 1 Axes>"
            ]
          },
          "metadata": {
            "tags": [],
            "needs_background": "light"
          }
        }
      ]
    },
    {
      "cell_type": "code",
      "metadata": {
        "id": "0CJ5NRjw--nb",
        "colab": {
          "base_uri": "https://localhost:8080/",
          "height": 408
        },
        "outputId": "441486c9-56ed-4595-ea16-2358a95e940f"
      },
      "source": [
        "plt.figure(figsize=(12,6))\n",
        "sns.distplot(train[train['sentiment']=='neutral']['jaccard_score'],kde=False)"
      ],
      "execution_count": null,
      "outputs": [
        {
          "output_type": "execute_result",
          "data": {
            "text/plain": [
              "<matplotlib.axes._subplots.AxesSubplot at 0x7fe21c116c90>"
            ]
          },
          "metadata": {
            "tags": []
          },
          "execution_count": 386
        },
        {
          "output_type": "display_data",
          "data": {
            "image/png": "[encoded data removed]",
            "text/plain": [
              "<Figure size 864x432 with 1 Axes>"
            ]
          },
          "metadata": {
            "tags": [],
            "needs_background": "light"
          }
        }
      ]
    },
    {
      "cell_type": "markdown",
      "metadata": {
        "id": "Uz-t7PYz_Fsm"
      },
      "source": [
        "We can see some interesting trends here:\n",
        "* Positive and negative sentences have high kurtosis and thus values are concentrated in two regions narrow and high density \n",
        "* Neutral sentences have a low kurtosis value and their is bump in density near values of 1\n",
        "\n",
        "For those who don't know :\n",
        "* Kurtosis is the measure of how peaked a distribution is and how much spread it is around that peak\n",
        "* Skewness measures how much a curve deviates from a normal distribution"
      ]
    },
    {
      "cell_type": "markdown",
      "metadata": {
        "id": "qZeZnQVX_J0I"
      },
      "source": [
        "# Conclusion Of EDA\n",
        "\n",
        "* We can see from the jaccard score plot that there is peak for negative and positive plot around score of 1 .That means there is a cluster of sentences where there is a high similarity between text and selected texts ,if we can find those clusters then we can predict text for selected texts for those sentences irrespective of segment\n",
        "\n",
        "Let's see if we can find those clusters,one interesting idea would be to check tweets which have number of words lesss than 3 in text, because there the text might be completely used as text"
      ]
    },
    {
      "cell_type": "code",
      "metadata": {
        "id": "ILbN65OU_QV1"
      },
      "source": [
        "k = train[train['Num_word_text']<=2]"
      ],
      "execution_count": null,
      "outputs": []
    },
    {
      "cell_type": "code",
      "metadata": {
        "id": "tc9mauTQ_VpG",
        "colab": {
          "base_uri": "https://localhost:8080/"
        },
        "outputId": "0930b2bd-e2e9-4e80-c0cb-19f4fcaf9695"
      },
      "source": [
        "k.groupby('sentiment').mean()['jaccard_score']"
      ],
      "execution_count": null,
      "outputs": [
        {
          "output_type": "execute_result",
          "data": {
            "text/plain": [
              "sentiment\n",
              "negative    0.571429\n",
              "neutral     1.000000\n",
              "positive    0.755556\n",
              "Name: jaccard_score, dtype: float64"
            ]
          },
          "metadata": {
            "tags": []
          },
          "execution_count": 388
        }
      ]
    },
    {
      "cell_type": "markdown",
      "metadata": {
        "id": "RjvLLBPr_ZQ-"
      },
      "source": [
        "k[k['sentiment']=='positive']"
      ]
    },
    {
      "cell_type": "markdown",
      "metadata": {
        "id": "THiVVzwN_fpP"
      },
      "source": [
        "#Cleaning the code"
      ]
    },
    {
      "cell_type": "code",
      "metadata": {
        "id": "MP_GnZy2_dwe"
      },
      "source": [
        "def preprocess(textdata):\n",
        "    processedText = []\n",
        "    # Defining regex patterns.\n",
        "    \n",
        "    sequencePattern   = r\"(.)\\1\\1+\"\n",
        "    seqReplacePattern = r\"\\1\\1\"\n",
        "    \n",
        "    for text in textdata:\n",
        "        '''Make text lowercase, remove text in square brackets,remove links,remove punctuation\n",
        "        and remove words containing numbers.'''\n",
        "        text = str(text).lower()\n",
        "        text = re.sub('\\[.*?\\]', '', text)\n",
        "        text = re.sub('https?://\\S+|www\\.\\S+', '', text)\n",
        "        text = re.sub('<.*?>+', '', text)\n",
        "        text = re.sub('[%s]' % re.escape(string.punctuation), '', text)\n",
        "        text = re.sub('\\n', '', text)\n",
        "        #text = re.sub('\\w*\\d\\w*', '', text)\n",
        "        tweet = re.sub(sequencePattern, seqReplacePattern, text)\n",
        "            \n",
        "        processedText.append(tweet)\n",
        "        \n",
        "    return processedText"
      ],
      "execution_count": null,
      "outputs": []
    },
    {
      "cell_type": "code",
      "metadata": {
        "id": "LMuagkGPCVTF",
        "colab": {
          "base_uri": "https://localhost:8080/"
        },
        "outputId": "d97c003b-8d4b-43f8-fff9-4551499774f5"
      },
      "source": [
        "import time\n",
        "t = time.time()\n",
        "processedtext = preprocess(text)\n",
        "print(f'Text Preprocessing complete.')\n",
        "print(f'Time Taken: {round(time.time()-t)} seconds')"
      ],
      "execution_count": null,
      "outputs": [
        {
          "output_type": "stream",
          "text": [
            "Text Preprocessing complete.\n",
            "Time Taken: 0 seconds\n"
          ],
          "name": "stdout"
        }
      ]
    },
    {
      "cell_type": "markdown",
      "metadata": {
        "id": "1kUXlCu_qfko"
      },
      "source": [
        "#Most common words sentiment wise"
      ]
    },
    {
      "cell_type": "markdown",
      "metadata": {
        "id": "tuYPpLTBFuQn"
      },
      "source": [
        "word cloud for positive, negative and neutral tweets."
      ]
    },
    {
      "cell_type": "code",
      "metadata": {
        "id": "910pPdMgr6Ao",
        "colab": {
          "base_uri": "https://localhost:8080/",
          "height": 468
        },
        "outputId": "06d12a72-11c5-476d-e7a4-38d99b96c031"
      },
      "source": [
        "train['temp_list'] = train['selected_text'].apply(lambda x:str(x).split())\n",
        "top = Counter([item for sublist in train['temp_list'] for item in sublist])\n",
        "temp = pd.DataFrame(top.most_common(20))\n",
        "temp.columns = ['Common_words','count']\n",
        "temp.style.background_gradient(cmap='Blues')"
      ],
      "execution_count": null,
      "outputs": [
        {
          "output_type": "execute_result",
          "data": {
            "text/html": [
              "<style  type=\"text/css\" >\n",
              "#T_037a1df6_8349_11eb_aac9_0242ac1c0002row0_col1{\n",
              "            background-color:  #08306b;\n",
              "            color:  #f1f1f1;\n",
              "        }#T_037a1df6_8349_11eb_aac9_0242ac1c0002row1_col1{\n",
              "            background-color:  #09529d;\n",
              "            color:  #f1f1f1;\n",
              "        }#T_037a1df6_8349_11eb_aac9_0242ac1c0002row2_col1{\n",
              "            background-color:  #2373b6;\n",
              "            color:  #f1f1f1;\n",
              "        }#T_037a1df6_8349_11eb_aac9_0242ac1c0002row3_col1{\n",
              "            background-color:  #2c7cba;\n",
              "            color:  #000000;\n",
              "        }#T_037a1df6_8349_11eb_aac9_0242ac1c0002row4_col1{\n",
              "            background-color:  #5ba3d0;\n",
              "            color:  #000000;\n",
              "        }#T_037a1df6_8349_11eb_aac9_0242ac1c0002row5_col1{\n",
              "            background-color:  #72b2d8;\n",
              "            color:  #000000;\n",
              "        }#T_037a1df6_8349_11eb_aac9_0242ac1c0002row6_col1{\n",
              "            background-color:  #7fb9da;\n",
              "            color:  #000000;\n",
              "        }#T_037a1df6_8349_11eb_aac9_0242ac1c0002row7_col1{\n",
              "            background-color:  #99c7e0;\n",
              "            color:  #000000;\n",
              "        }#T_037a1df6_8349_11eb_aac9_0242ac1c0002row8_col1{\n",
              "            background-color:  #a5cde3;\n",
              "            color:  #000000;\n",
              "        }#T_037a1df6_8349_11eb_aac9_0242ac1c0002row9_col1{\n",
              "            background-color:  #b9d6ea;\n",
              "            color:  #000000;\n",
              "        }#T_037a1df6_8349_11eb_aac9_0242ac1c0002row10_col1{\n",
              "            background-color:  #e4eff9;\n",
              "            color:  #000000;\n",
              "        }#T_037a1df6_8349_11eb_aac9_0242ac1c0002row11_col1,#T_037a1df6_8349_11eb_aac9_0242ac1c0002row12_col1{\n",
              "            background-color:  #eaf3fb;\n",
              "            color:  #000000;\n",
              "        }#T_037a1df6_8349_11eb_aac9_0242ac1c0002row13_col1,#T_037a1df6_8349_11eb_aac9_0242ac1c0002row14_col1,#T_037a1df6_8349_11eb_aac9_0242ac1c0002row15_col1,#T_037a1df6_8349_11eb_aac9_0242ac1c0002row16_col1{\n",
              "            background-color:  #f1f7fd;\n",
              "            color:  #000000;\n",
              "        }#T_037a1df6_8349_11eb_aac9_0242ac1c0002row17_col1,#T_037a1df6_8349_11eb_aac9_0242ac1c0002row18_col1,#T_037a1df6_8349_11eb_aac9_0242ac1c0002row19_col1{\n",
              "            background-color:  #f7fbff;\n",
              "            color:  #000000;\n",
              "        }</style><table id=\"T_037a1df6_8349_11eb_aac9_0242ac1c0002\" ><thead>    <tr>        <th class=\"blank level0\" ></th>        <th class=\"col_heading level0 col0\" >Common_words</th>        <th class=\"col_heading level0 col1\" >count</th>    </tr></thead><tbody>\n",
              "                <tr>\n",
              "                        <th id=\"T_037a1df6_8349_11eb_aac9_0242ac1c0002level0_row0\" class=\"row_heading level0 row0\" >0</th>\n",
              "                        <td id=\"T_037a1df6_8349_11eb_aac9_0242ac1c0002row0_col0\" class=\"data row0 col0\" >না</td>\n",
              "                        <td id=\"T_037a1df6_8349_11eb_aac9_0242ac1c0002row0_col1\" class=\"data row0 col1\" >47</td>\n",
              "            </tr>\n",
              "            <tr>\n",
              "                        <th id=\"T_037a1df6_8349_11eb_aac9_0242ac1c0002level0_row1\" class=\"row_heading level0 row1\" >1</th>\n",
              "                        <td id=\"T_037a1df6_8349_11eb_aac9_0242ac1c0002row1_col0\" class=\"data row1 col0\" >আমি</td>\n",
              "                        <td id=\"T_037a1df6_8349_11eb_aac9_0242ac1c0002row1_col1\" class=\"data row1 col1\" >43</td>\n",
              "            </tr>\n",
              "            <tr>\n",
              "                        <th id=\"T_037a1df6_8349_11eb_aac9_0242ac1c0002level0_row2\" class=\"row_heading level0 row2\" >2</th>\n",
              "                        <td id=\"T_037a1df6_8349_11eb_aac9_0242ac1c0002row2_col0\" class=\"data row2 col0\" >এবং</td>\n",
              "                        <td id=\"T_037a1df6_8349_11eb_aac9_0242ac1c0002row2_col1\" class=\"data row2 col1\" >39</td>\n",
              "            </tr>\n",
              "            <tr>\n",
              "                        <th id=\"T_037a1df6_8349_11eb_aac9_0242ac1c0002level0_row3\" class=\"row_heading level0 row3\" >3</th>\n",
              "                        <td id=\"T_037a1df6_8349_11eb_aac9_0242ac1c0002row3_col0\" class=\"data row3 col0\" >ভাল</td>\n",
              "                        <td id=\"T_037a1df6_8349_11eb_aac9_0242ac1c0002row3_col1\" class=\"data row3 col1\" >38</td>\n",
              "            </tr>\n",
              "            <tr>\n",
              "                        <th id=\"T_037a1df6_8349_11eb_aac9_0242ac1c0002level0_row4\" class=\"row_heading level0 row4\" >4</th>\n",
              "                        <td id=\"T_037a1df6_8349_11eb_aac9_0242ac1c0002row4_col0\" class=\"data row4 col0\" >কি</td>\n",
              "                        <td id=\"T_037a1df6_8349_11eb_aac9_0242ac1c0002row4_col1\" class=\"data row4 col1\" >33</td>\n",
              "            </tr>\n",
              "            <tr>\n",
              "                        <th id=\"T_037a1df6_8349_11eb_aac9_0242ac1c0002level0_row5\" class=\"row_heading level0 row5\" >5</th>\n",
              "                        <td id=\"T_037a1df6_8349_11eb_aac9_0242ac1c0002row5_col0\" class=\"data row5 col0\" >জন্য</td>\n",
              "                        <td id=\"T_037a1df6_8349_11eb_aac9_0242ac1c0002row5_col1\" class=\"data row5 col1\" >31</td>\n",
              "            </tr>\n",
              "            <tr>\n",
              "                        <th id=\"T_037a1df6_8349_11eb_aac9_0242ac1c0002level0_row6\" class=\"row_heading level0 row6\" >6</th>\n",
              "                        <td id=\"T_037a1df6_8349_11eb_aac9_0242ac1c0002row6_col0\" class=\"data row6 col0\" >এই</td>\n",
              "                        <td id=\"T_037a1df6_8349_11eb_aac9_0242ac1c0002row6_col1\" class=\"data row6 col1\" >30</td>\n",
              "            </tr>\n",
              "            <tr>\n",
              "                        <th id=\"T_037a1df6_8349_11eb_aac9_0242ac1c0002level0_row7\" class=\"row_heading level0 row7\" >7</th>\n",
              "                        <td id=\"T_037a1df6_8349_11eb_aac9_0242ac1c0002row7_col0\" class=\"data row7 col0\" >একটি</td>\n",
              "                        <td id=\"T_037a1df6_8349_11eb_aac9_0242ac1c0002row7_col1\" class=\"data row7 col1\" >28</td>\n",
              "            </tr>\n",
              "            <tr>\n",
              "                        <th id=\"T_037a1df6_8349_11eb_aac9_0242ac1c0002level0_row8\" class=\"row_heading level0 row8\" >8</th>\n",
              "                        <td id=\"T_037a1df6_8349_11eb_aac9_0242ac1c0002row8_col0\" class=\"data row8 col0\" >আমার</td>\n",
              "                        <td id=\"T_037a1df6_8349_11eb_aac9_0242ac1c0002row8_col1\" class=\"data row8 col1\" >27</td>\n",
              "            </tr>\n",
              "            <tr>\n",
              "                        <th id=\"T_037a1df6_8349_11eb_aac9_0242ac1c0002level0_row9\" class=\"row_heading level0 row9\" >9</th>\n",
              "                        <td id=\"T_037a1df6_8349_11eb_aac9_0242ac1c0002row9_col0\" class=\"data row9 col0\" >করে</td>\n",
              "                        <td id=\"T_037a1df6_8349_11eb_aac9_0242ac1c0002row9_col1\" class=\"data row9 col1\" >25</td>\n",
              "            </tr>\n",
              "            <tr>\n",
              "                        <th id=\"T_037a1df6_8349_11eb_aac9_0242ac1c0002level0_row10\" class=\"row_heading level0 row10\" >10</th>\n",
              "                        <td id=\"T_037a1df6_8349_11eb_aac9_0242ac1c0002row10_col0\" class=\"data row10 col0\" >খুব</td>\n",
              "                        <td id=\"T_037a1df6_8349_11eb_aac9_0242ac1c0002row10_col1\" class=\"data row10 col1\" >19</td>\n",
              "            </tr>\n",
              "            <tr>\n",
              "                        <th id=\"T_037a1df6_8349_11eb_aac9_0242ac1c0002level0_row11\" class=\"row_heading level0 row11\" >11</th>\n",
              "                        <td id=\"T_037a1df6_8349_11eb_aac9_0242ac1c0002row11_col0\" class=\"data row11 col0\" >ভালো</td>\n",
              "                        <td id=\"T_037a1df6_8349_11eb_aac9_0242ac1c0002row11_col1\" class=\"data row11 col1\" >18</td>\n",
              "            </tr>\n",
              "            <tr>\n",
              "                        <th id=\"T_037a1df6_8349_11eb_aac9_0242ac1c0002level0_row12\" class=\"row_heading level0 row12\" >12</th>\n",
              "                        <td id=\"T_037a1df6_8349_11eb_aac9_0242ac1c0002row12_col0\" class=\"data row12 col0\" >আমরা</td>\n",
              "                        <td id=\"T_037a1df6_8349_11eb_aac9_0242ac1c0002row12_col1\" class=\"data row12 col1\" >18</td>\n",
              "            </tr>\n",
              "            <tr>\n",
              "                        <th id=\"T_037a1df6_8349_11eb_aac9_0242ac1c0002level0_row13\" class=\"row_heading level0 row13\" >13</th>\n",
              "                        <td id=\"T_037a1df6_8349_11eb_aac9_0242ac1c0002row13_col0\" class=\"data row13 col0\" >ছিল</td>\n",
              "                        <td id=\"T_037a1df6_8349_11eb_aac9_0242ac1c0002row13_col1\" class=\"data row13 col1\" >17</td>\n",
              "            </tr>\n",
              "            <tr>\n",
              "                        <th id=\"T_037a1df6_8349_11eb_aac9_0242ac1c0002level0_row14\" class=\"row_heading level0 row14\" >14</th>\n",
              "                        <td id=\"T_037a1df6_8349_11eb_aac9_0242ac1c0002row14_col0\" class=\"data row14 col0\" >করা</td>\n",
              "                        <td id=\"T_037a1df6_8349_11eb_aac9_0242ac1c0002row14_col1\" class=\"data row14 col1\" >17</td>\n",
              "            </tr>\n",
              "            <tr>\n",
              "                        <th id=\"T_037a1df6_8349_11eb_aac9_0242ac1c0002level0_row15\" class=\"row_heading level0 row15\" >15</th>\n",
              "                        <td id=\"T_037a1df6_8349_11eb_aac9_0242ac1c0002row15_col0\" class=\"data row15 col0\" >না।</td>\n",
              "                        <td id=\"T_037a1df6_8349_11eb_aac9_0242ac1c0002row15_col1\" class=\"data row15 col1\" >17</td>\n",
              "            </tr>\n",
              "            <tr>\n",
              "                        <th id=\"T_037a1df6_8349_11eb_aac9_0242ac1c0002level0_row16\" class=\"row_heading level0 row16\" >16</th>\n",
              "                        <td id=\"T_037a1df6_8349_11eb_aac9_0242ac1c0002row16_col0\" class=\"data row16 col0\" >আমাদের</td>\n",
              "                        <td id=\"T_037a1df6_8349_11eb_aac9_0242ac1c0002row16_col1\" class=\"data row16 col1\" >17</td>\n",
              "            </tr>\n",
              "            <tr>\n",
              "                        <th id=\"T_037a1df6_8349_11eb_aac9_0242ac1c0002level0_row17\" class=\"row_heading level0 row17\" >17</th>\n",
              "                        <td id=\"T_037a1df6_8349_11eb_aac9_0242ac1c0002row17_col0\" class=\"data row17 col0\" >এটা</td>\n",
              "                        <td id=\"T_037a1df6_8349_11eb_aac9_0242ac1c0002row17_col1\" class=\"data row17 col1\" >16</td>\n",
              "            </tr>\n",
              "            <tr>\n",
              "                        <th id=\"T_037a1df6_8349_11eb_aac9_0242ac1c0002level0_row18\" class=\"row_heading level0 row18\" >18</th>\n",
              "                        <td id=\"T_037a1df6_8349_11eb_aac9_0242ac1c0002row18_col0\" class=\"data row18 col0\" >যে</td>\n",
              "                        <td id=\"T_037a1df6_8349_11eb_aac9_0242ac1c0002row18_col1\" class=\"data row18 col1\" >16</td>\n",
              "            </tr>\n",
              "            <tr>\n",
              "                        <th id=\"T_037a1df6_8349_11eb_aac9_0242ac1c0002level0_row19\" class=\"row_heading level0 row19\" >19</th>\n",
              "                        <td id=\"T_037a1df6_8349_11eb_aac9_0242ac1c0002row19_col0\" class=\"data row19 col0\" >কে</td>\n",
              "                        <td id=\"T_037a1df6_8349_11eb_aac9_0242ac1c0002row19_col1\" class=\"data row19 col1\" >16</td>\n",
              "            </tr>\n",
              "    </tbody></table>"
            ],
            "text/plain": [
              "<pandas.io.formats.style.Styler at 0x7fe21b5ddb90>"
            ]
          },
          "metadata": {
            "tags": []
          },
          "execution_count": 391
        }
      ]
    },
    {
      "cell_type": "code",
      "metadata": {
        "id": "LQgRwHYDqePv"
      },
      "source": [
        "Positive_sent = train[train['sentiment']=='positive']\n",
        "Negative_sent = train[train['sentiment']=='negative']\n",
        "Neutral_sent = train[train['sentiment']=='neutral']"
      ],
      "execution_count": null,
      "outputs": []
    },
    {
      "cell_type": "code",
      "metadata": {
        "id": "F31kSlGpvncQ",
        "colab": {
          "base_uri": "https://localhost:8080/",
          "height": 468
        },
        "outputId": "f43a316a-4aac-49f9-bb24-aa3e4abb9c0b"
      },
      "source": [
        "#MosT common positive words\n",
        "top = Counter([item for sublist in Positive_sent['temp_list'] for item in sublist])\n",
        "temp_positive = pd.DataFrame(top.most_common(20))\n",
        "temp_positive.columns = ['Common_words','count']\n",
        "temp_positive.style.background_gradient(cmap='Greens')"
      ],
      "execution_count": null,
      "outputs": [
        {
          "output_type": "execute_result",
          "data": {
            "text/html": [
              "<style  type=\"text/css\" >\n",
              "#T_038202a0_8349_11eb_aac9_0242ac1c0002row0_col1{\n",
              "            background-color:  #00441b;\n",
              "            color:  #f1f1f1;\n",
              "        }#T_038202a0_8349_11eb_aac9_0242ac1c0002row1_col1{\n",
              "            background-color:  #9bd696;\n",
              "            color:  #000000;\n",
              "        }#T_038202a0_8349_11eb_aac9_0242ac1c0002row2_col1{\n",
              "            background-color:  #b7e2b1;\n",
              "            color:  #000000;\n",
              "        }#T_038202a0_8349_11eb_aac9_0242ac1c0002row3_col1{\n",
              "            background-color:  #cfecc9;\n",
              "            color:  #000000;\n",
              "        }#T_038202a0_8349_11eb_aac9_0242ac1c0002row4_col1,#T_038202a0_8349_11eb_aac9_0242ac1c0002row5_col1,#T_038202a0_8349_11eb_aac9_0242ac1c0002row6_col1{\n",
              "            background-color:  #daf0d4;\n",
              "            color:  #000000;\n",
              "        }#T_038202a0_8349_11eb_aac9_0242ac1c0002row7_col1{\n",
              "            background-color:  #e4f5df;\n",
              "            color:  #000000;\n",
              "        }#T_038202a0_8349_11eb_aac9_0242ac1c0002row8_col1,#T_038202a0_8349_11eb_aac9_0242ac1c0002row9_col1,#T_038202a0_8349_11eb_aac9_0242ac1c0002row10_col1{\n",
              "            background-color:  #ebf7e7;\n",
              "            color:  #000000;\n",
              "        }#T_038202a0_8349_11eb_aac9_0242ac1c0002row11_col1,#T_038202a0_8349_11eb_aac9_0242ac1c0002row12_col1,#T_038202a0_8349_11eb_aac9_0242ac1c0002row13_col1,#T_038202a0_8349_11eb_aac9_0242ac1c0002row14_col1,#T_038202a0_8349_11eb_aac9_0242ac1c0002row15_col1{\n",
              "            background-color:  #f1faee;\n",
              "            color:  #000000;\n",
              "        }#T_038202a0_8349_11eb_aac9_0242ac1c0002row16_col1,#T_038202a0_8349_11eb_aac9_0242ac1c0002row17_col1,#T_038202a0_8349_11eb_aac9_0242ac1c0002row18_col1,#T_038202a0_8349_11eb_aac9_0242ac1c0002row19_col1{\n",
              "            background-color:  #f7fcf5;\n",
              "            color:  #000000;\n",
              "        }</style><table id=\"T_038202a0_8349_11eb_aac9_0242ac1c0002\" ><thead>    <tr>        <th class=\"blank level0\" ></th>        <th class=\"col_heading level0 col0\" >Common_words</th>        <th class=\"col_heading level0 col1\" >count</th>    </tr></thead><tbody>\n",
              "                <tr>\n",
              "                        <th id=\"T_038202a0_8349_11eb_aac9_0242ac1c0002level0_row0\" class=\"row_heading level0 row0\" >0</th>\n",
              "                        <td id=\"T_038202a0_8349_11eb_aac9_0242ac1c0002row0_col0\" class=\"data row0 col0\" >ভাল</td>\n",
              "                        <td id=\"T_038202a0_8349_11eb_aac9_0242ac1c0002row0_col1\" class=\"data row0 col1\" >28</td>\n",
              "            </tr>\n",
              "            <tr>\n",
              "                        <th id=\"T_038202a0_8349_11eb_aac9_0242ac1c0002level0_row1\" class=\"row_heading level0 row1\" >1</th>\n",
              "                        <td id=\"T_038202a0_8349_11eb_aac9_0242ac1c0002row1_col0\" class=\"data row1 col0\" >এবং</td>\n",
              "                        <td id=\"T_038202a0_8349_11eb_aac9_0242ac1c0002row1_col1\" class=\"data row1 col1\" >14</td>\n",
              "            </tr>\n",
              "            <tr>\n",
              "                        <th id=\"T_038202a0_8349_11eb_aac9_0242ac1c0002level0_row2\" class=\"row_heading level0 row2\" >2</th>\n",
              "                        <td id=\"T_038202a0_8349_11eb_aac9_0242ac1c0002row2_col0\" class=\"data row2 col0\" >,</td>\n",
              "                        <td id=\"T_038202a0_8349_11eb_aac9_0242ac1c0002row2_col1\" class=\"data row2 col1\" >12</td>\n",
              "            </tr>\n",
              "            <tr>\n",
              "                        <th id=\"T_038202a0_8349_11eb_aac9_0242ac1c0002level0_row3\" class=\"row_heading level0 row3\" >3</th>\n",
              "                        <td id=\"T_038202a0_8349_11eb_aac9_0242ac1c0002row3_col0\" class=\"data row3 col0\" >খুব</td>\n",
              "                        <td id=\"T_038202a0_8349_11eb_aac9_0242ac1c0002row3_col1\" class=\"data row3 col1\" >10</td>\n",
              "            </tr>\n",
              "            <tr>\n",
              "                        <th id=\"T_038202a0_8349_11eb_aac9_0242ac1c0002level0_row4\" class=\"row_heading level0 row4\" >4</th>\n",
              "                        <td id=\"T_038202a0_8349_11eb_aac9_0242ac1c0002row4_col0\" class=\"data row4 col0\" >ধন্যবাদ</td>\n",
              "                        <td id=\"T_038202a0_8349_11eb_aac9_0242ac1c0002row4_col1\" class=\"data row4 col1\" >9</td>\n",
              "            </tr>\n",
              "            <tr>\n",
              "                        <th id=\"T_038202a0_8349_11eb_aac9_0242ac1c0002level0_row5\" class=\"row_heading level0 row5\" >5</th>\n",
              "                        <td id=\"T_038202a0_8349_11eb_aac9_0242ac1c0002row5_col0\" class=\"data row5 col0\" >একটি</td>\n",
              "                        <td id=\"T_038202a0_8349_11eb_aac9_0242ac1c0002row5_col1\" class=\"data row5 col1\" >9</td>\n",
              "            </tr>\n",
              "            <tr>\n",
              "                        <th id=\"T_038202a0_8349_11eb_aac9_0242ac1c0002level0_row6\" class=\"row_heading level0 row6\" >6</th>\n",
              "                        <td id=\"T_038202a0_8349_11eb_aac9_0242ac1c0002row6_col0\" class=\"data row6 col0\" >ভালো</td>\n",
              "                        <td id=\"T_038202a0_8349_11eb_aac9_0242ac1c0002row6_col1\" class=\"data row6 col1\" >9</td>\n",
              "            </tr>\n",
              "            <tr>\n",
              "                        <th id=\"T_038202a0_8349_11eb_aac9_0242ac1c0002level0_row7\" class=\"row_heading level0 row7\" >7</th>\n",
              "                        <td id=\"T_038202a0_8349_11eb_aac9_0242ac1c0002row7_col0\" class=\"data row7 col0\" >চমৎকার</td>\n",
              "                        <td id=\"T_038202a0_8349_11eb_aac9_0242ac1c0002row7_col1\" class=\"data row7 col1\" >8</td>\n",
              "            </tr>\n",
              "            <tr>\n",
              "                        <th id=\"T_038202a0_8349_11eb_aac9_0242ac1c0002level0_row8\" class=\"row_heading level0 row8\" >8</th>\n",
              "                        <td id=\"T_038202a0_8349_11eb_aac9_0242ac1c0002row8_col0\" class=\"data row8 col0\" >ছিল</td>\n",
              "                        <td id=\"T_038202a0_8349_11eb_aac9_0242ac1c0002row8_col1\" class=\"data row8 col1\" >7</td>\n",
              "            </tr>\n",
              "            <tr>\n",
              "                        <th id=\"T_038202a0_8349_11eb_aac9_0242ac1c0002level0_row9\" class=\"row_heading level0 row9\" >9</th>\n",
              "                        <td id=\"T_038202a0_8349_11eb_aac9_0242ac1c0002row9_col0\" class=\"data row9 col0\" >জায়গা</td>\n",
              "                        <td id=\"T_038202a0_8349_11eb_aac9_0242ac1c0002row9_col1\" class=\"data row9 col1\" >7</td>\n",
              "            </tr>\n",
              "            <tr>\n",
              "                        <th id=\"T_038202a0_8349_11eb_aac9_0242ac1c0002level0_row10\" class=\"row_heading level0 row10\" >10</th>\n",
              "                        <td id=\"T_038202a0_8349_11eb_aac9_0242ac1c0002row10_col0\" class=\"data row10 col0\" >সুন্দর</td>\n",
              "                        <td id=\"T_038202a0_8349_11eb_aac9_0242ac1c0002row10_col1\" class=\"data row10 col1\" >7</td>\n",
              "            </tr>\n",
              "            <tr>\n",
              "                        <th id=\"T_038202a0_8349_11eb_aac9_0242ac1c0002level0_row11\" class=\"row_heading level0 row11\" >11</th>\n",
              "                        <td id=\"T_038202a0_8349_11eb_aac9_0242ac1c0002row11_col0\" class=\"data row11 col0\" >সেরা</td>\n",
              "                        <td id=\"T_038202a0_8349_11eb_aac9_0242ac1c0002row11_col1\" class=\"data row11 col1\" >6</td>\n",
              "            </tr>\n",
              "            <tr>\n",
              "                        <th id=\"T_038202a0_8349_11eb_aac9_0242ac1c0002level0_row12\" class=\"row_heading level0 row12\" >12</th>\n",
              "                        <td id=\"T_038202a0_8349_11eb_aac9_0242ac1c0002row12_col0\" class=\"data row12 col0\" >খাবার</td>\n",
              "                        <td id=\"T_038202a0_8349_11eb_aac9_0242ac1c0002row12_col1\" class=\"data row12 col1\" >6</td>\n",
              "            </tr>\n",
              "            <tr>\n",
              "                        <th id=\"T_038202a0_8349_11eb_aac9_0242ac1c0002level0_row13\" class=\"row_heading level0 row13\" >13</th>\n",
              "                        <td id=\"T_038202a0_8349_11eb_aac9_0242ac1c0002row13_col0\" class=\"data row13 col0\" >খাদ্য</td>\n",
              "                        <td id=\"T_038202a0_8349_11eb_aac9_0242ac1c0002row13_col1\" class=\"data row13 col1\" >6</td>\n",
              "            </tr>\n",
              "            <tr>\n",
              "                        <th id=\"T_038202a0_8349_11eb_aac9_0242ac1c0002level0_row14\" class=\"row_heading level0 row14\" >14</th>\n",
              "                        <td id=\"T_038202a0_8349_11eb_aac9_0242ac1c0002row14_col0\" class=\"data row14 col0\" >মহান</td>\n",
              "                        <td id=\"T_038202a0_8349_11eb_aac9_0242ac1c0002row14_col1\" class=\"data row14 col1\" >6</td>\n",
              "            </tr>\n",
              "            <tr>\n",
              "                        <th id=\"T_038202a0_8349_11eb_aac9_0242ac1c0002level0_row15\" class=\"row_heading level0 row15\" >15</th>\n",
              "                        <td id=\"T_038202a0_8349_11eb_aac9_0242ac1c0002row15_col0\" class=\"data row15 col0\" >গ্রেট</td>\n",
              "                        <td id=\"T_038202a0_8349_11eb_aac9_0242ac1c0002row15_col1\" class=\"data row15 col1\" >6</td>\n",
              "            </tr>\n",
              "            <tr>\n",
              "                        <th id=\"T_038202a0_8349_11eb_aac9_0242ac1c0002level0_row16\" class=\"row_heading level0 row16\" >16</th>\n",
              "                        <td id=\"T_038202a0_8349_11eb_aac9_0242ac1c0002row16_col0\" class=\"data row16 col0\" >হয়</td>\n",
              "                        <td id=\"T_038202a0_8349_11eb_aac9_0242ac1c0002row16_col1\" class=\"data row16 col1\" >5</td>\n",
              "            </tr>\n",
              "            <tr>\n",
              "                        <th id=\"T_038202a0_8349_11eb_aac9_0242ac1c0002level0_row17\" class=\"row_heading level0 row17\" >17</th>\n",
              "                        <td id=\"T_038202a0_8349_11eb_aac9_0242ac1c0002row17_col0\" class=\"data row17 col0\" >সন্তুষ্ট</td>\n",
              "                        <td id=\"T_038202a0_8349_11eb_aac9_0242ac1c0002row17_col1\" class=\"data row17 col1\" >5</td>\n",
              "            </tr>\n",
              "            <tr>\n",
              "                        <th id=\"T_038202a0_8349_11eb_aac9_0242ac1c0002level0_row18\" class=\"row_heading level0 row18\" >18</th>\n",
              "                        <td id=\"T_038202a0_8349_11eb_aac9_0242ac1c0002row18_col0\" class=\"data row18 col0\" >করি</td>\n",
              "                        <td id=\"T_038202a0_8349_11eb_aac9_0242ac1c0002row18_col1\" class=\"data row18 col1\" >5</td>\n",
              "            </tr>\n",
              "            <tr>\n",
              "                        <th id=\"T_038202a0_8349_11eb_aac9_0242ac1c0002level0_row19\" class=\"row_heading level0 row19\" >19</th>\n",
              "                        <td id=\"T_038202a0_8349_11eb_aac9_0242ac1c0002row19_col0\" class=\"data row19 col0\" >আপনি</td>\n",
              "                        <td id=\"T_038202a0_8349_11eb_aac9_0242ac1c0002row19_col1\" class=\"data row19 col1\" >5</td>\n",
              "            </tr>\n",
              "    </tbody></table>"
            ],
            "text/plain": [
              "<pandas.io.formats.style.Styler at 0x7fe21b062310>"
            ]
          },
          "metadata": {
            "tags": []
          },
          "execution_count": 393
        }
      ]
    },
    {
      "cell_type": "code",
      "metadata": {
        "id": "pHmcp4PmvuSV",
        "colab": {
          "base_uri": "https://localhost:8080/",
          "height": 446
        },
        "outputId": "ffdcb38a-1ef1-4bf4-8114-72098fb8738e"
      },
      "source": [
        "#MosT common negative words\n",
        "top = Counter([item for sublist in Negative_sent['temp_list'] for item in sublist])\n",
        "temp_negative = pd.DataFrame(top.most_common(20))\n",
        "temp_negative = temp_negative.iloc[1:,:]\n",
        "temp_negative.columns = ['Common_words','count']\n",
        "temp_negative.style.background_gradient(cmap='Reds')"
      ],
      "execution_count": null,
      "outputs": [
        {
          "output_type": "execute_result",
          "data": {
            "text/html": [
              "<style  type=\"text/css\" >\n",
              "#T_0387639e_8349_11eb_aac9_0242ac1c0002row0_col1{\n",
              "            background-color:  #67000d;\n",
              "            color:  #f1f1f1;\n",
              "        }#T_0387639e_8349_11eb_aac9_0242ac1c0002row1_col1{\n",
              "            background-color:  #aa1016;\n",
              "            color:  #f1f1f1;\n",
              "        }#T_0387639e_8349_11eb_aac9_0242ac1c0002row2_col1{\n",
              "            background-color:  #f44f39;\n",
              "            color:  #000000;\n",
              "        }#T_0387639e_8349_11eb_aac9_0242ac1c0002row3_col1,#T_0387639e_8349_11eb_aac9_0242ac1c0002row4_col1{\n",
              "            background-color:  #fc8161;\n",
              "            color:  #000000;\n",
              "        }#T_0387639e_8349_11eb_aac9_0242ac1c0002row5_col1{\n",
              "            background-color:  #fcaf93;\n",
              "            color:  #000000;\n",
              "        }#T_0387639e_8349_11eb_aac9_0242ac1c0002row6_col1,#T_0387639e_8349_11eb_aac9_0242ac1c0002row7_col1,#T_0387639e_8349_11eb_aac9_0242ac1c0002row8_col1,#T_0387639e_8349_11eb_aac9_0242ac1c0002row9_col1,#T_0387639e_8349_11eb_aac9_0242ac1c0002row10_col1,#T_0387639e_8349_11eb_aac9_0242ac1c0002row11_col1,#T_0387639e_8349_11eb_aac9_0242ac1c0002row12_col1,#T_0387639e_8349_11eb_aac9_0242ac1c0002row13_col1,#T_0387639e_8349_11eb_aac9_0242ac1c0002row14_col1{\n",
              "            background-color:  #fedbcc;\n",
              "            color:  #000000;\n",
              "        }#T_0387639e_8349_11eb_aac9_0242ac1c0002row15_col1,#T_0387639e_8349_11eb_aac9_0242ac1c0002row16_col1,#T_0387639e_8349_11eb_aac9_0242ac1c0002row17_col1,#T_0387639e_8349_11eb_aac9_0242ac1c0002row18_col1{\n",
              "            background-color:  #fff5f0;\n",
              "            color:  #000000;\n",
              "        }</style><table id=\"T_0387639e_8349_11eb_aac9_0242ac1c0002\" ><thead>    <tr>        <th class=\"blank level0\" ></th>        <th class=\"col_heading level0 col0\" >Common_words</th>        <th class=\"col_heading level0 col1\" >count</th>    </tr></thead><tbody>\n",
              "                <tr>\n",
              "                        <th id=\"T_0387639e_8349_11eb_aac9_0242ac1c0002level0_row0\" class=\"row_heading level0 row0\" >1</th>\n",
              "                        <td id=\"T_0387639e_8349_11eb_aac9_0242ac1c0002row0_col0\" class=\"data row0 col0\" >করে</td>\n",
              "                        <td id=\"T_0387639e_8349_11eb_aac9_0242ac1c0002row0_col1\" class=\"data row0 col1\" >12</td>\n",
              "            </tr>\n",
              "            <tr>\n",
              "                        <th id=\"T_0387639e_8349_11eb_aac9_0242ac1c0002level0_row1\" class=\"row_heading level0 row1\" >2</th>\n",
              "                        <td id=\"T_0387639e_8349_11eb_aac9_0242ac1c0002row1_col0\" class=\"data row1 col0\" >কি</td>\n",
              "                        <td id=\"T_0387639e_8349_11eb_aac9_0242ac1c0002row1_col1\" class=\"data row1 col1\" >11</td>\n",
              "            </tr>\n",
              "            <tr>\n",
              "                        <th id=\"T_0387639e_8349_11eb_aac9_0242ac1c0002level0_row2\" class=\"row_heading level0 row2\" >3</th>\n",
              "                        <td id=\"T_0387639e_8349_11eb_aac9_0242ac1c0002row2_col0\" class=\"data row2 col0\" >এই</td>\n",
              "                        <td id=\"T_0387639e_8349_11eb_aac9_0242ac1c0002row2_col1\" class=\"data row2 col1\" >9</td>\n",
              "            </tr>\n",
              "            <tr>\n",
              "                        <th id=\"T_0387639e_8349_11eb_aac9_0242ac1c0002level0_row3\" class=\"row_heading level0 row3\" >4</th>\n",
              "                        <td id=\"T_0387639e_8349_11eb_aac9_0242ac1c0002row3_col0\" class=\"data row3 col0\" >সব</td>\n",
              "                        <td id=\"T_0387639e_8349_11eb_aac9_0242ac1c0002row3_col1\" class=\"data row3 col1\" >8</td>\n",
              "            </tr>\n",
              "            <tr>\n",
              "                        <th id=\"T_0387639e_8349_11eb_aac9_0242ac1c0002level0_row4\" class=\"row_heading level0 row4\" >5</th>\n",
              "                        <td id=\"T_0387639e_8349_11eb_aac9_0242ac1c0002row4_col0\" class=\"data row4 col0\" >জন্য</td>\n",
              "                        <td id=\"T_0387639e_8349_11eb_aac9_0242ac1c0002row4_col1\" class=\"data row4 col1\" >8</td>\n",
              "            </tr>\n",
              "            <tr>\n",
              "                        <th id=\"T_0387639e_8349_11eb_aac9_0242ac1c0002level0_row5\" class=\"row_heading level0 row5\" >6</th>\n",
              "                        <td id=\"T_0387639e_8349_11eb_aac9_0242ac1c0002row5_col0\" class=\"data row5 col0\" >আমাদের</td>\n",
              "                        <td id=\"T_0387639e_8349_11eb_aac9_0242ac1c0002row5_col1\" class=\"data row5 col1\" >7</td>\n",
              "            </tr>\n",
              "            <tr>\n",
              "                        <th id=\"T_0387639e_8349_11eb_aac9_0242ac1c0002level0_row6\" class=\"row_heading level0 row6\" >7</th>\n",
              "                        <td id=\"T_0387639e_8349_11eb_aac9_0242ac1c0002row6_col0\" class=\"data row6 col0\" >ব্যাটিং</td>\n",
              "                        <td id=\"T_0387639e_8349_11eb_aac9_0242ac1c0002row6_col1\" class=\"data row6 col1\" >6</td>\n",
              "            </tr>\n",
              "            <tr>\n",
              "                        <th id=\"T_0387639e_8349_11eb_aac9_0242ac1c0002level0_row7\" class=\"row_heading level0 row7\" >8</th>\n",
              "                        <td id=\"T_0387639e_8349_11eb_aac9_0242ac1c0002row7_col0\" class=\"data row7 col0\" >দিয়ে</td>\n",
              "                        <td id=\"T_0387639e_8349_11eb_aac9_0242ac1c0002row7_col1\" class=\"data row7 col1\" >6</td>\n",
              "            </tr>\n",
              "            <tr>\n",
              "                        <th id=\"T_0387639e_8349_11eb_aac9_0242ac1c0002level0_row8\" class=\"row_heading level0 row8\" >9</th>\n",
              "                        <td id=\"T_0387639e_8349_11eb_aac9_0242ac1c0002row8_col0\" class=\"data row8 col0\" >খেলা</td>\n",
              "                        <td id=\"T_0387639e_8349_11eb_aac9_0242ac1c0002row8_col1\" class=\"data row8 col1\" >6</td>\n",
              "            </tr>\n",
              "            <tr>\n",
              "                        <th id=\"T_0387639e_8349_11eb_aac9_0242ac1c0002level0_row9\" class=\"row_heading level0 row9\" >10</th>\n",
              "                        <td id=\"T_0387639e_8349_11eb_aac9_0242ac1c0002row9_col0\" class=\"data row9 col0\" >সাব্বির</td>\n",
              "                        <td id=\"T_0387639e_8349_11eb_aac9_0242ac1c0002row9_col1\" class=\"data row9 col1\" >6</td>\n",
              "            </tr>\n",
              "            <tr>\n",
              "                        <th id=\"T_0387639e_8349_11eb_aac9_0242ac1c0002level0_row10\" class=\"row_heading level0 row10\" >11</th>\n",
              "                        <td id=\"T_0387639e_8349_11eb_aac9_0242ac1c0002row10_col0\" class=\"data row10 col0\" >তারা</td>\n",
              "                        <td id=\"T_0387639e_8349_11eb_aac9_0242ac1c0002row10_col1\" class=\"data row10 col1\" >6</td>\n",
              "            </tr>\n",
              "            <tr>\n",
              "                        <th id=\"T_0387639e_8349_11eb_aac9_0242ac1c0002level0_row11\" class=\"row_heading level0 row11\" >12</th>\n",
              "                        <td id=\"T_0387639e_8349_11eb_aac9_0242ac1c0002row11_col0\" class=\"data row11 col0\" >গেছে</td>\n",
              "                        <td id=\"T_0387639e_8349_11eb_aac9_0242ac1c0002row11_col1\" class=\"data row11 col1\" >6</td>\n",
              "            </tr>\n",
              "            <tr>\n",
              "                        <th id=\"T_0387639e_8349_11eb_aac9_0242ac1c0002level0_row12\" class=\"row_heading level0 row12\" >13</th>\n",
              "                        <td id=\"T_0387639e_8349_11eb_aac9_0242ac1c0002row12_col0\" class=\"data row12 col0\" >রাজ্জাক</td>\n",
              "                        <td id=\"T_0387639e_8349_11eb_aac9_0242ac1c0002row12_col1\" class=\"data row12 col1\" >6</td>\n",
              "            </tr>\n",
              "            <tr>\n",
              "                        <th id=\"T_0387639e_8349_11eb_aac9_0242ac1c0002level0_row13\" class=\"row_heading level0 row13\" >14</th>\n",
              "                        <td id=\"T_0387639e_8349_11eb_aac9_0242ac1c0002row13_col0\" class=\"data row13 col0\" >আর</td>\n",
              "                        <td id=\"T_0387639e_8349_11eb_aac9_0242ac1c0002row13_col1\" class=\"data row13 col1\" >6</td>\n",
              "            </tr>\n",
              "            <tr>\n",
              "                        <th id=\"T_0387639e_8349_11eb_aac9_0242ac1c0002level0_row14\" class=\"row_heading level0 row14\" >15</th>\n",
              "                        <td id=\"T_0387639e_8349_11eb_aac9_0242ac1c0002row14_col0\" class=\"data row14 col0\" >না।</td>\n",
              "                        <td id=\"T_0387639e_8349_11eb_aac9_0242ac1c0002row14_col1\" class=\"data row14 col1\" >6</td>\n",
              "            </tr>\n",
              "            <tr>\n",
              "                        <th id=\"T_0387639e_8349_11eb_aac9_0242ac1c0002level0_row15\" class=\"row_heading level0 row15\" >16</th>\n",
              "                        <td id=\"T_0387639e_8349_11eb_aac9_0242ac1c0002row15_col0\" class=\"data row15 col0\" >যায়</td>\n",
              "                        <td id=\"T_0387639e_8349_11eb_aac9_0242ac1c0002row15_col1\" class=\"data row15 col1\" >5</td>\n",
              "            </tr>\n",
              "            <tr>\n",
              "                        <th id=\"T_0387639e_8349_11eb_aac9_0242ac1c0002level0_row16\" class=\"row_heading level0 row16\" >17</th>\n",
              "                        <td id=\"T_0387639e_8349_11eb_aac9_0242ac1c0002row16_col0\" class=\"data row16 col0\" >কে</td>\n",
              "                        <td id=\"T_0387639e_8349_11eb_aac9_0242ac1c0002row16_col1\" class=\"data row16 col1\" >5</td>\n",
              "            </tr>\n",
              "            <tr>\n",
              "                        <th id=\"T_0387639e_8349_11eb_aac9_0242ac1c0002level0_row17\" class=\"row_heading level0 row17\" >18</th>\n",
              "                        <td id=\"T_0387639e_8349_11eb_aac9_0242ac1c0002row17_col0\" class=\"data row17 col0\" >করা</td>\n",
              "                        <td id=\"T_0387639e_8349_11eb_aac9_0242ac1c0002row17_col1\" class=\"data row17 col1\" >5</td>\n",
              "            </tr>\n",
              "            <tr>\n",
              "                        <th id=\"T_0387639e_8349_11eb_aac9_0242ac1c0002level0_row18\" class=\"row_heading level0 row18\" >19</th>\n",
              "                        <td id=\"T_0387639e_8349_11eb_aac9_0242ac1c0002row18_col0\" class=\"data row18 col0\" >এটা</td>\n",
              "                        <td id=\"T_0387639e_8349_11eb_aac9_0242ac1c0002row18_col1\" class=\"data row18 col1\" >5</td>\n",
              "            </tr>\n",
              "    </tbody></table>"
            ],
            "text/plain": [
              "<pandas.io.formats.style.Styler at 0x7fe21b57d290>"
            ]
          },
          "metadata": {
            "tags": []
          },
          "execution_count": 394
        }
      ]
    },
    {
      "cell_type": "code",
      "metadata": {
        "id": "8gR7s2YSvzIG",
        "colab": {
          "base_uri": "https://localhost:8080/",
          "height": 446
        },
        "outputId": "38ee7b42-a85c-4955-8e4b-18e79dec605b"
      },
      "source": [
        "#MosT common Neutral words\n",
        "top = Counter([item for sublist in Neutral_sent['temp_list'] for item in sublist])\n",
        "temp_neutral = pd.DataFrame(top.most_common(20))\n",
        "temp_neutral = temp_neutral.loc[1:,:]\n",
        "temp_neutral.columns = ['Common_words','count']\n",
        "temp_neutral.style.background_gradient(cmap='Blues')"
      ],
      "execution_count": null,
      "outputs": [
        {
          "output_type": "execute_result",
          "data": {
            "text/html": [
              "<style  type=\"text/css\" >\n",
              "#T_038c2320_8349_11eb_aac9_0242ac1c0002row0_col1,#T_038c2320_8349_11eb_aac9_0242ac1c0002row1_col1{\n",
              "            background-color:  #08306b;\n",
              "            color:  #f1f1f1;\n",
              "        }#T_038c2320_8349_11eb_aac9_0242ac1c0002row2_col1,#T_038c2320_8349_11eb_aac9_0242ac1c0002row3_col1{\n",
              "            background-color:  #2b7bba;\n",
              "            color:  #000000;\n",
              "        }#T_038c2320_8349_11eb_aac9_0242ac1c0002row4_col1{\n",
              "            background-color:  #539ecd;\n",
              "            color:  #000000;\n",
              "        }#T_038c2320_8349_11eb_aac9_0242ac1c0002row5_col1{\n",
              "            background-color:  #89bedc;\n",
              "            color:  #000000;\n",
              "        }#T_038c2320_8349_11eb_aac9_0242ac1c0002row6_col1{\n",
              "            background-color:  #a4cce3;\n",
              "            color:  #000000;\n",
              "        }#T_038c2320_8349_11eb_aac9_0242ac1c0002row7_col1,#T_038c2320_8349_11eb_aac9_0242ac1c0002row8_col1{\n",
              "            background-color:  #cde0f1;\n",
              "            color:  #000000;\n",
              "        }#T_038c2320_8349_11eb_aac9_0242ac1c0002row9_col1,#T_038c2320_8349_11eb_aac9_0242ac1c0002row10_col1{\n",
              "            background-color:  #dbe9f6;\n",
              "            color:  #000000;\n",
              "        }#T_038c2320_8349_11eb_aac9_0242ac1c0002row11_col1,#T_038c2320_8349_11eb_aac9_0242ac1c0002row12_col1,#T_038c2320_8349_11eb_aac9_0242ac1c0002row13_col1{\n",
              "            background-color:  #e9f2fa;\n",
              "            color:  #000000;\n",
              "        }#T_038c2320_8349_11eb_aac9_0242ac1c0002row14_col1,#T_038c2320_8349_11eb_aac9_0242ac1c0002row15_col1,#T_038c2320_8349_11eb_aac9_0242ac1c0002row16_col1,#T_038c2320_8349_11eb_aac9_0242ac1c0002row17_col1,#T_038c2320_8349_11eb_aac9_0242ac1c0002row18_col1{\n",
              "            background-color:  #f7fbff;\n",
              "            color:  #000000;\n",
              "        }</style><table id=\"T_038c2320_8349_11eb_aac9_0242ac1c0002\" ><thead>    <tr>        <th class=\"blank level0\" ></th>        <th class=\"col_heading level0 col0\" >Common_words</th>        <th class=\"col_heading level0 col1\" >count</th>    </tr></thead><tbody>\n",
              "                <tr>\n",
              "                        <th id=\"T_038c2320_8349_11eb_aac9_0242ac1c0002level0_row0\" class=\"row_heading level0 row0\" >1</th>\n",
              "                        <td id=\"T_038c2320_8349_11eb_aac9_0242ac1c0002row0_col0\" class=\"data row0 col0\" >এবং</td>\n",
              "                        <td id=\"T_038c2320_8349_11eb_aac9_0242ac1c0002row0_col1\" class=\"data row0 col1\" >24</td>\n",
              "            </tr>\n",
              "            <tr>\n",
              "                        <th id=\"T_038c2320_8349_11eb_aac9_0242ac1c0002level0_row1\" class=\"row_heading level0 row1\" >2</th>\n",
              "                        <td id=\"T_038c2320_8349_11eb_aac9_0242ac1c0002row1_col0\" class=\"data row1 col0\" >আমার</td>\n",
              "                        <td id=\"T_038c2320_8349_11eb_aac9_0242ac1c0002row1_col1\" class=\"data row1 col1\" >24</td>\n",
              "            </tr>\n",
              "            <tr>\n",
              "                        <th id=\"T_038c2320_8349_11eb_aac9_0242ac1c0002level0_row2\" class=\"row_heading level0 row2\" >3</th>\n",
              "                        <td id=\"T_038c2320_8349_11eb_aac9_0242ac1c0002row2_col0\" class=\"data row2 col0\" >এই</td>\n",
              "                        <td id=\"T_038c2320_8349_11eb_aac9_0242ac1c0002row2_col1\" class=\"data row2 col1\" >20</td>\n",
              "            </tr>\n",
              "            <tr>\n",
              "                        <th id=\"T_038c2320_8349_11eb_aac9_0242ac1c0002level0_row3\" class=\"row_heading level0 row3\" >4</th>\n",
              "                        <td id=\"T_038c2320_8349_11eb_aac9_0242ac1c0002row3_col0\" class=\"data row3 col0\" >কি</td>\n",
              "                        <td id=\"T_038c2320_8349_11eb_aac9_0242ac1c0002row3_col1\" class=\"data row3 col1\" >20</td>\n",
              "            </tr>\n",
              "            <tr>\n",
              "                        <th id=\"T_038c2320_8349_11eb_aac9_0242ac1c0002level0_row4\" class=\"row_heading level0 row4\" >5</th>\n",
              "                        <td id=\"T_038c2320_8349_11eb_aac9_0242ac1c0002row4_col0\" class=\"data row4 col0\" >জন্য</td>\n",
              "                        <td id=\"T_038c2320_8349_11eb_aac9_0242ac1c0002row4_col1\" class=\"data row4 col1\" >18</td>\n",
              "            </tr>\n",
              "            <tr>\n",
              "                        <th id=\"T_038c2320_8349_11eb_aac9_0242ac1c0002level0_row5\" class=\"row_heading level0 row5\" >6</th>\n",
              "                        <td id=\"T_038c2320_8349_11eb_aac9_0242ac1c0002row5_col0\" class=\"data row5 col0\" >আমরা</td>\n",
              "                        <td id=\"T_038c2320_8349_11eb_aac9_0242ac1c0002row5_col1\" class=\"data row5 col1\" >16</td>\n",
              "            </tr>\n",
              "            <tr>\n",
              "                        <th id=\"T_038c2320_8349_11eb_aac9_0242ac1c0002level0_row6\" class=\"row_heading level0 row6\" >7</th>\n",
              "                        <td id=\"T_038c2320_8349_11eb_aac9_0242ac1c0002row6_col0\" class=\"data row6 col0\" >একটি</td>\n",
              "                        <td id=\"T_038c2320_8349_11eb_aac9_0242ac1c0002row6_col1\" class=\"data row6 col1\" >15</td>\n",
              "            </tr>\n",
              "            <tr>\n",
              "                        <th id=\"T_038c2320_8349_11eb_aac9_0242ac1c0002level0_row7\" class=\"row_heading level0 row7\" >8</th>\n",
              "                        <td id=\"T_038c2320_8349_11eb_aac9_0242ac1c0002row7_col0\" class=\"data row7 col0\" >না</td>\n",
              "                        <td id=\"T_038c2320_8349_11eb_aac9_0242ac1c0002row7_col1\" class=\"data row7 col1\" >13</td>\n",
              "            </tr>\n",
              "            <tr>\n",
              "                        <th id=\"T_038c2320_8349_11eb_aac9_0242ac1c0002level0_row8\" class=\"row_heading level0 row8\" >9</th>\n",
              "                        <td id=\"T_038c2320_8349_11eb_aac9_0242ac1c0002row8_col0\" class=\"data row8 col0\" >।</td>\n",
              "                        <td id=\"T_038c2320_8349_11eb_aac9_0242ac1c0002row8_col1\" class=\"data row8 col1\" >13</td>\n",
              "            </tr>\n",
              "            <tr>\n",
              "                        <th id=\"T_038c2320_8349_11eb_aac9_0242ac1c0002level0_row9\" class=\"row_heading level0 row9\" >10</th>\n",
              "                        <td id=\"T_038c2320_8349_11eb_aac9_0242ac1c0002row9_col0\" class=\"data row9 col0\" >কিছু</td>\n",
              "                        <td id=\"T_038c2320_8349_11eb_aac9_0242ac1c0002row9_col1\" class=\"data row9 col1\" >12</td>\n",
              "            </tr>\n",
              "            <tr>\n",
              "                        <th id=\"T_038c2320_8349_11eb_aac9_0242ac1c0002level0_row10\" class=\"row_heading level0 row10\" >11</th>\n",
              "                        <td id=\"T_038c2320_8349_11eb_aac9_0242ac1c0002row10_col0\" class=\"data row10 col0\" >এর</td>\n",
              "                        <td id=\"T_038c2320_8349_11eb_aac9_0242ac1c0002row10_col1\" class=\"data row10 col1\" >12</td>\n",
              "            </tr>\n",
              "            <tr>\n",
              "                        <th id=\"T_038c2320_8349_11eb_aac9_0242ac1c0002level0_row11\" class=\"row_heading level0 row11\" >12</th>\n",
              "                        <td id=\"T_038c2320_8349_11eb_aac9_0242ac1c0002row11_col0\" class=\"data row11 col0\" >করে</td>\n",
              "                        <td id=\"T_038c2320_8349_11eb_aac9_0242ac1c0002row11_col1\" class=\"data row11 col1\" >11</td>\n",
              "            </tr>\n",
              "            <tr>\n",
              "                        <th id=\"T_038c2320_8349_11eb_aac9_0242ac1c0002level0_row12\" class=\"row_heading level0 row12\" >13</th>\n",
              "                        <td id=\"T_038c2320_8349_11eb_aac9_0242ac1c0002row12_col0\" class=\"data row12 col0\" >না।</td>\n",
              "                        <td id=\"T_038c2320_8349_11eb_aac9_0242ac1c0002row12_col1\" class=\"data row12 col1\" >11</td>\n",
              "            </tr>\n",
              "            <tr>\n",
              "                        <th id=\"T_038c2320_8349_11eb_aac9_0242ac1c0002level0_row13\" class=\"row_heading level0 row13\" >14</th>\n",
              "                        <td id=\"T_038c2320_8349_11eb_aac9_0242ac1c0002row13_col0\" class=\"data row13 col0\" >দলে</td>\n",
              "                        <td id=\"T_038c2320_8349_11eb_aac9_0242ac1c0002row13_col1\" class=\"data row13 col1\" >11</td>\n",
              "            </tr>\n",
              "            <tr>\n",
              "                        <th id=\"T_038c2320_8349_11eb_aac9_0242ac1c0002level0_row14\" class=\"row_heading level0 row14\" >15</th>\n",
              "                        <td id=\"T_038c2320_8349_11eb_aac9_0242ac1c0002row14_col0\" class=\"data row14 col0\" >আমাদের</td>\n",
              "                        <td id=\"T_038c2320_8349_11eb_aac9_0242ac1c0002row14_col1\" class=\"data row14 col1\" >10</td>\n",
              "            </tr>\n",
              "            <tr>\n",
              "                        <th id=\"T_038c2320_8349_11eb_aac9_0242ac1c0002level0_row15\" class=\"row_heading level0 row15\" >16</th>\n",
              "                        <td id=\"T_038c2320_8349_11eb_aac9_0242ac1c0002row15_col0\" class=\"data row15 col0\" >যে</td>\n",
              "                        <td id=\"T_038c2320_8349_11eb_aac9_0242ac1c0002row15_col1\" class=\"data row15 col1\" >10</td>\n",
              "            </tr>\n",
              "            <tr>\n",
              "                        <th id=\"T_038c2320_8349_11eb_aac9_0242ac1c0002level0_row16\" class=\"row_heading level0 row16\" >17</th>\n",
              "                        <td id=\"T_038c2320_8349_11eb_aac9_0242ac1c0002row16_col0\" class=\"data row16 col0\" >ভাই</td>\n",
              "                        <td id=\"T_038c2320_8349_11eb_aac9_0242ac1c0002row16_col1\" class=\"data row16 col1\" >10</td>\n",
              "            </tr>\n",
              "            <tr>\n",
              "                        <th id=\"T_038c2320_8349_11eb_aac9_0242ac1c0002level0_row17\" class=\"row_heading level0 row17\" >18</th>\n",
              "                        <td id=\"T_038c2320_8349_11eb_aac9_0242ac1c0002row17_col0\" class=\"data row17 col0\" >বাংলাদেশ</td>\n",
              "                        <td id=\"T_038c2320_8349_11eb_aac9_0242ac1c0002row17_col1\" class=\"data row17 col1\" >10</td>\n",
              "            </tr>\n",
              "            <tr>\n",
              "                        <th id=\"T_038c2320_8349_11eb_aac9_0242ac1c0002level0_row18\" class=\"row_heading level0 row18\" >19</th>\n",
              "                        <td id=\"T_038c2320_8349_11eb_aac9_0242ac1c0002row18_col0\" class=\"data row18 col0\" >থেকে</td>\n",
              "                        <td id=\"T_038c2320_8349_11eb_aac9_0242ac1c0002row18_col1\" class=\"data row18 col1\" >10</td>\n",
              "            </tr>\n",
              "    </tbody></table>"
            ],
            "text/plain": [
              "<pandas.io.formats.style.Styler at 0x7fe21ae90710>"
            ]
          },
          "metadata": {
            "tags": []
          },
          "execution_count": 395
        }
      ]
    },
    {
      "cell_type": "code",
      "metadata": {
        "id": "unHIlll2DIwI"
      },
      "source": [
        "train['text'] = train['text'].apply(lambda x:preprocess(x))\n",
        "train['selected_text'] = train['selected_text'].apply(lambda x:preprocess(x))"
      ],
      "execution_count": null,
      "outputs": []
    },
    {
      "cell_type": "code",
      "metadata": {
        "id": "met88_WTF9kO",
        "colab": {
          "base_uri": "https://localhost:8080/",
          "height": 938
        },
        "outputId": "a413a43d-53b0-46d2-c808-fe2e2a2cf073"
      },
      "source": [
        "train.head()"
      ],
      "execution_count": null,
      "outputs": [
        {
          "output_type": "execute_result",
          "data": {
            "text/html": [
              "<div>\n",
              "<style scoped>\n",
              "    .dataframe tbody tr th:only-of-type {\n",
              "        vertical-align: middle;\n",
              "    }\n",
              "\n",
              "    .dataframe tbody tr th {\n",
              "        vertical-align: top;\n",
              "    }\n",
              "\n",
              "    .dataframe thead th {\n",
              "        text-align: right;\n",
              "    }\n",
              "</style>\n",
              "<table border=\"1\" class=\"dataframe\">\n",
              "  <thead>\n",
              "    <tr style=\"text-align: right;\">\n",
              "      <th></th>\n",
              "      <th>id</th>\n",
              "      <th>text</th>\n",
              "      <th>selected_text</th>\n",
              "      <th>sentiment</th>\n",
              "      <th>jaccard_score</th>\n",
              "      <th>Num_words_ST</th>\n",
              "      <th>Num_word_text</th>\n",
              "      <th>difference_in_words</th>\n",
              "      <th>temp_list</th>\n",
              "    </tr>\n",
              "  </thead>\n",
              "  <tbody>\n",
              "    <tr>\n",
              "      <th>0</th>\n",
              "      <td>1498.0</td>\n",
              "      <td>[হ, ্, য, া,  , র, ু, শ, ন, া,  , ই, ন, ্, ট, ...</td>\n",
              "      <td>[হ, ্, য, া,  , ও,  , ব, া, চ, ্, চ, া,  , এ, ...</td>\n",
              "      <td>positive</td>\n",
              "      <td>0.555556</td>\n",
              "      <td>5</td>\n",
              "      <td>9</td>\n",
              "      <td>4</td>\n",
              "      <td>[হ্যা, ও, বাচ্চা, একটা, মেয়ে]</td>\n",
              "    </tr>\n",
              "    <tr>\n",
              "      <th>1</th>\n",
              "      <td>149.0</td>\n",
              "      <td>[খ, া, র, া, প,  , দ, ি, ন,  , আ, স, ত, ে, ই, ...</td>\n",
              "      <td>[হ, া, র, ি,  , জ, ি, ত, ি,  , ট, া, ই, ক, া, ...</td>\n",
              "      <td>positive</td>\n",
              "      <td>0.555556</td>\n",
              "      <td>5</td>\n",
              "      <td>9</td>\n",
              "      <td>4</td>\n",
              "      <td>[হারি, জিতি, টাইকারদের, সাথেই, আছি]</td>\n",
              "    </tr>\n",
              "    <tr>\n",
              "      <th>2</th>\n",
              "      <td>1617.0</td>\n",
              "      <td>[স, ্, য, া, র,  , ধ, ন, ্, য, ব, া, দ,  , আ, ...</td>\n",
              "      <td>[স, ্, য, া, র,  , ধ, ন, ্, য, ব, া, দ,  , আ, ...</td>\n",
              "      <td>positive</td>\n",
              "      <td>1.000000</td>\n",
              "      <td>3</td>\n",
              "      <td>3</td>\n",
              "      <td>0</td>\n",
              "      <td>[স্যার, ধন্যবাদ, আপনাকে]</td>\n",
              "    </tr>\n",
              "    <tr>\n",
              "      <th>3</th>\n",
              "      <td>98.0</td>\n",
              "      <td>[চ, া, প,  , ন, া,  , ন, ি, য়, ে,  , য, া, র, ...</td>\n",
              "      <td>[স, ্, ব, া, ভ, া, ব, ি, ক,  , খ, ে, ল, া, ট, ...</td>\n",
              "      <td>positive</td>\n",
              "      <td>0.666667</td>\n",
              "      <td>10</td>\n",
              "      <td>17</td>\n",
              "      <td>7</td>\n",
              "      <td>[স্বাভাবিক, খেলাটা, খেললেই, হবে।, জয়,, পরাজয়, ...</td>\n",
              "    </tr>\n",
              "    <tr>\n",
              "      <th>4</th>\n",
              "      <td>122.0</td>\n",
              "      <td>[স, ৌ, ভ, া, গ, ্, য, ব, শ, ত,  , আ, ম, র, া, ...</td>\n",
              "      <td>[স, ৌ, ভ, া, গ, ্, য, ব, শ, ত,  ]</td>\n",
              "      <td>positive</td>\n",
              "      <td>0.083333</td>\n",
              "      <td>1</td>\n",
              "      <td>12</td>\n",
              "      <td>11</td>\n",
              "      <td>[সৌভাগ্যবশত]</td>\n",
              "    </tr>\n",
              "  </tbody>\n",
              "</table>\n",
              "</div>"
            ],
            "text/plain": [
              "       id  ...                                          temp_list\n",
              "0  1498.0  ...                      [হ্যা, ও, বাচ্চা, একটা, মেয়ে]\n",
              "1   149.0  ...                [হারি, জিতি, টাইকারদের, সাথেই, আছি]\n",
              "2  1617.0  ...                           [স্যার, ধন্যবাদ, আপনাকে]\n",
              "3    98.0  ...  [স্বাভাবিক, খেলাটা, খেললেই, হবে।, জয়,, পরাজয়, ...\n",
              "4   122.0  ...                                       [সৌভাগ্যবশত]\n",
              "\n",
              "[5 rows x 9 columns]"
            ]
          },
          "metadata": {
            "tags": []
          },
          "execution_count": 397
        }
      ]
    },
    {
      "cell_type": "code",
      "metadata": {
        "id": "gfjTnwdZF94k",
        "colab": {
          "base_uri": "https://localhost:8080/"
        },
        "outputId": "498c9528-2767-4bfa-f965-4bc77236f081"
      },
      "source": [
        "X_train, X_test, y_train, y_test = train_test_split(processedtext, sentiment,test_size = 0.05, random_state = 0)\n",
        "print(f'Data Split done.')"
      ],
      "execution_count": null,
      "outputs": [
        {
          "output_type": "stream",
          "text": [
            "Data Split done.\n"
          ],
          "name": "stdout"
        }
      ]
    },
    {
      "cell_type": "code",
      "metadata": {
        "id": "3qc1JCKCF-ID",
        "colab": {
          "base_uri": "https://localhost:8080/"
        },
        "outputId": "bad55e6e-b12f-4657-9eb7-3046a4cb6eda"
      },
      "source": [
        "vectoriser = TfidfVectorizer(ngram_range=(1,2), max_features=500000)\n",
        "vectoriser.fit(X_train)\n",
        "print(f'Vectoriser fitted.')\n",
        "print('No. of feature_words: ', len(vectoriser.get_feature_names()))"
      ],
      "execution_count": null,
      "outputs": [
        {
          "output_type": "stream",
          "text": [
            "Vectoriser fitted.\n",
            "No. of feature_words:  3069\n"
          ],
          "name": "stdout"
        }
      ]
    },
    {
      "cell_type": "code",
      "metadata": {
        "id": "mQh5KCAuYYn2",
        "colab": {
          "base_uri": "https://localhost:8080/"
        },
        "outputId": "20cd9797-9e69-4526-9852-6edaf9e159a0"
      },
      "source": [
        "X_train = vectoriser.transform(X_train)\n",
        "X_test  = vectoriser.transform(X_test)\n",
        "print(f'Data Transformed.')"
      ],
      "execution_count": null,
      "outputs": [
        {
          "output_type": "stream",
          "text": [
            "Data Transformed.\n"
          ],
          "name": "stdout"
        }
      ]
    },
    {
      "cell_type": "markdown",
      "metadata": {
        "id": "bgE3ZTRlYijP"
      },
      "source": [
        "#evaluate model function"
      ]
    },
    {
      "cell_type": "code",
      "metadata": {
        "id": "by-fujGKYiKK"
      },
      "source": [
        "def model_Evaluate(model):\n",
        "    \n",
        "    # Predict values for Test dataset\n",
        "    y_pred = model.predict(X_test)\n",
        "\n",
        "    # Print the evaluation metrics for the dataset.\n",
        "    print(classification_report(y_test, y_pred))\n",
        "    \n",
        "    # Compute and plot the Confusion matrix\n",
        "    cf_matrix = confusion_matrix(y_test, y_pred)\n",
        "\n",
        "    categories  = ['Neutral','Negative','Positive']\n",
        "    group_names = ['True New','False NNeg', 'False NPos','False NNeu','True Neg','False Pos','False PNew','False Neg','True Pos']\n",
        "    group_percentages = ['{0:.4%}'.format(value) for value in cf_matrix.flatten() / np.sum(cf_matrix)]\n",
        "\n",
        "    labels = [f'{v1}\\n{v2}' for v1, v2 in zip(group_names,group_percentages)]\n",
        "    labels = np.asarray(labels).reshape(3,3)\n",
        "\n",
        "    sns.heatmap(cf_matrix, annot = labels, cmap = 'Blues',fmt = '',xticklabels = categories, yticklabels = categories)\n",
        "\n",
        "\n",
        "    plt.xlabel(\"Predicted values\", fontdict = {'size':14}, labelpad = 10)\n",
        "    plt.ylabel(\"Actual values\"   , fontdict = {'size':14}, labelpad = 10)\n",
        "    plt.title (\"Confusion Matrix\", fontdict = {'size':18}, pad = 20)\n",
        "\n",
        "    "
      ],
      "execution_count": null,
      "outputs": []
    },
    {
      "cell_type": "markdown",
      "metadata": {
        "id": "m8CaOw9qYqEA"
      },
      "source": [
        "##NB Bernouli"
      ]
    },
    {
      "cell_type": "code",
      "metadata": {
        "id": "CQy8gvlOYspM",
        "colab": {
          "base_uri": "https://localhost:8080/",
          "height": 510
        },
        "outputId": "036d2600-fa82-438e-d321-6f07a8c61487"
      },
      "source": [
        "BNBmodel = BernoulliNB(alpha = 3)\n",
        "BNBmodel.fit(X_train, y_train)\n",
        "model_Evaluate(BNBmodel)"
      ],
      "execution_count": null,
      "outputs": [
        {
          "output_type": "stream",
          "text": [
            "              precision    recall  f1-score   support\n",
            "\n",
            "    negative       0.00      0.00      0.00        12\n",
            "     neutral       0.39      1.00      0.57        13\n",
            "    positive       0.00      0.00      0.00         9\n",
            "\n",
            "    accuracy                           0.38        34\n",
            "   macro avg       0.13      0.33      0.19        34\n",
            "weighted avg       0.15      0.38      0.22        34\n",
            "\n"
          ],
          "name": "stdout"
        },
        {
          "output_type": "display_data",
          "data": {
            "image/png": "[encoded data removed]",
            "text/plain": [
              "<Figure size 432x288 with 2 Axes>"
            ]
          },
          "metadata": {
            "tags": [],
            "needs_background": "light"
          }
        }
      ]
    },
    {
      "cell_type": "markdown",
      "metadata": {
        "id": "oTA60kxohDws"
      },
      "source": [
        "##Linear SVC model"
      ]
    },
    {
      "cell_type": "code",
      "metadata": {
        "id": "4vIs8hsShFyP",
        "colab": {
          "base_uri": "https://localhost:8080/",
          "height": 510
        },
        "outputId": "1b3f80f6-d384-4f2e-8c0a-6d1a5ac97912"
      },
      "source": [
        "SVCmodel = LinearSVC()\n",
        "SVCmodel.fit(X_train, y_train)\n",
        "model_Evaluate(SVCmodel)"
      ],
      "execution_count": null,
      "outputs": [
        {
          "output_type": "stream",
          "text": [
            "              precision    recall  f1-score   support\n",
            "\n",
            "    negative       0.60      0.50      0.55        12\n",
            "     neutral       0.40      0.31      0.35        13\n",
            "    positive       0.36      0.56      0.43         9\n",
            "\n",
            "    accuracy                           0.44        34\n",
            "   macro avg       0.45      0.45      0.44        34\n",
            "weighted avg       0.46      0.44      0.44        34\n",
            "\n"
          ],
          "name": "stdout"
        },
        {
          "output_type": "display_data",
          "data": {
            "image/png": "[encoded data removed]",
            "text/plain": [
              "<Figure size 432x288 with 2 Axes>"
            ]
          },
          "metadata": {
            "tags": [],
            "needs_background": "light"
          }
        }
      ]
    },
    {
      "cell_type": "markdown",
      "metadata": {
        "id": "TDhu3TachLaI"
      },
      "source": [
        "##Logistic Regression Model"
      ]
    },
    {
      "cell_type": "code",
      "metadata": {
        "id": "qYlxLXwUhQEE",
        "colab": {
          "base_uri": "https://localhost:8080/",
          "height": 510
        },
        "outputId": "4f3ccb1b-b572-42e1-a8a1-6e32cf347e1b"
      },
      "source": [
        "LRmodel = LogisticRegression(C = 3, max_iter = 1000, n_jobs=-1)\n",
        "LRmodel.fit(X_train, y_train)\n",
        "model_Evaluate(LRmodel)"
      ],
      "execution_count": null,
      "outputs": [
        {
          "output_type": "stream",
          "text": [
            "              precision    recall  f1-score   support\n",
            "\n",
            "    negative       0.60      0.50      0.55        12\n",
            "     neutral       0.40      0.31      0.35        13\n",
            "    positive       0.36      0.56      0.43         9\n",
            "\n",
            "    accuracy                           0.44        34\n",
            "   macro avg       0.45      0.45      0.44        34\n",
            "weighted avg       0.46      0.44      0.44        34\n",
            "\n"
          ],
          "name": "stdout"
        },
        {
          "output_type": "display_data",
          "data": {
            "image/png": "[encoded data removed]",
            "text/plain": [
              "<Figure size 432x288 with 2 Axes>"
            ]
          },
          "metadata": {
            "tags": [],
            "needs_background": "light"
          }
        }
      ]
    },
    {
      "cell_type": "markdown",
      "metadata": {
        "id": "CUSFnCVMGsHb"
      },
      "source": [
        "##Random Forest"
      ]
    },
    {
      "cell_type": "code",
      "metadata": {
        "colab": {
          "base_uri": "https://localhost:8080/",
          "height": 510
        },
        "id": "5sOK7Ty5Guuf",
        "outputId": "0183e649-f94e-4a4b-869a-2b5fec6ea563"
      },
      "source": [
        "from sklearn.ensemble import RandomForestClassifier\r\n",
        "RFmodel = RandomForestClassifier()\r\n",
        "RFmodel.fit(X_train, y_train)\r\n",
        "model_Evaluate(RFmodel)"
      ],
      "execution_count": null,
      "outputs": [
        {
          "output_type": "stream",
          "text": [
            "              precision    recall  f1-score   support\n",
            "\n",
            "    negative       0.50      0.50      0.50        12\n",
            "     neutral       0.18      0.15      0.17        13\n",
            "    positive       0.27      0.33      0.30         9\n",
            "\n",
            "    accuracy                           0.32        34\n",
            "   macro avg       0.32      0.33      0.32        34\n",
            "weighted avg       0.32      0.32      0.32        34\n",
            "\n"
          ],
          "name": "stdout"
        },
        {
          "output_type": "display_data",
          "data": {
            "image/png": "[encoded data removed]",
            "text/plain": [
              "<Figure size 432x288 with 2 Axes>"
            ]
          },
          "metadata": {
            "tags": [],
            "needs_background": "light"
          }
        }
      ]
    },
    {
      "cell_type": "markdown",
      "metadata": {
        "id": "UL8pFEcaqUe0"
      },
      "source": [
        "#Final Model"
      ]
    },
    {
      "cell_type": "code",
      "metadata": {
        "id": "XUet8dL66bKV"
      },
      "source": [
        "import pickle\n",
        "file = open('/content/vectoriser.pickle','wb')\n",
        "pickle.dump(vectoriser, file)\n",
        "file.close()\n",
        "\n",
        "file = open('/content/LRmodel.pickle','wb')\n",
        "pickle.dump(LRmodel, file)\n",
        "file.close()\n",
        "\n",
        "file = open('/content/BNBmodel.pickle','wb')\n",
        "pickle.dump(BNBmodel, file)\n",
        "file.close()\n",
        "\n",
        "file = open('/content/RFmodel.pickle','wb')\n",
        "pickle.dump(RFmodel, file)\n",
        "file.close()"
      ],
      "execution_count": null,
      "outputs": []
    },
    {
      "cell_type": "code",
      "metadata": {
        "id": "D2Afw8RR7M1z",
        "colab": {
          "base_uri": "https://localhost:8080/"
        },
        "outputId": "7ca13bd5-0578-432e-a3cf-adf5c242e463"
      },
      "source": [
        "def load_models():\n",
        "    '''\n",
        "    Replace '..path/' by the path of the saved models.\n",
        "    '''\n",
        "    # Load the vectoriser.\n",
        "    file = open('/content/vectoriser-ngram-(1,2).pickle', 'rb')\n",
        "    vectoriser = pickle.load(file)\n",
        "    file.close()\n",
        "    # Load the LR Model.\n",
        "    file = open('/content/Sentiment-LRv1.pickle', 'rb')\n",
        "    LRmodel = pickle.load(file)\n",
        "    file.close()\n",
        "    # Load the RFmodel.\n",
        "    file = open('/content/RFmodel.pickle', 'rb')\n",
        "    RFmodel = pickle.load(file)\n",
        "    file.close()\n",
        "\n",
        "    return vectoriser, LRmodel , RFmodel\n",
        "\n",
        "def predict(vectoriser, model, text):\n",
        "    # Predict the sentiment\n",
        "    textdata = vectoriser.transform(preprocess(text))\n",
        "    sentiment = model.predict(textdata)\n",
        "    \n",
        "    # Make a list of text with sentiment.\n",
        "    data = []\n",
        "    for text, pred in zip(text, sentiment):\n",
        "        data.append((text,pred))\n",
        "        \n",
        "    # Convert the list into a Pandas DataFrame.\n",
        "    df = pd.DataFrame(data, columns = ['text','sentiment'])\n",
        "    df = df.replace([0,1,2], [\"Negative\",\"Positive\",\"Neutral\"])\n",
        "    return df\n",
        "\n",
        "if __name__==\"__main__\":\n",
        "    # Loading the models.\n",
        "    #vectoriser, LRmodel = load_models()\n",
        "    \n",
        "    # Text to classify should be in a list.\n",
        "    text = [\"স্পষ্টভাবে এটি রেস্টুরেন্ট!\",\n",
        "            \"না!\",\n",
        "            \"অসাধারন একটা নাটক??\",\n",
        "            \"আমার মন খারাপ\",\n",
        "            \"ঠিক আছে\",\n",
        "            \"ও!\"]\n",
        "    \n",
        "    df = predict(vectoriser, LRmodel, text)\n",
        "    print (df)"
      ],
      "execution_count": null,
      "outputs": [
        {
          "output_type": "stream",
          "text": [
            "                          text sentiment\n",
            "0  স্পষ্টভাবে এটি রেস্টুরেন্ট!  positive\n",
            "1                          না!  negative\n",
            "2          অসাধারন একটা নাটক??   neutral\n",
            "3                আমার মন খারাপ  negative\n",
            "4                      ঠিক আছে  positive\n",
            "5                           ও!  negative\n"
          ],
          "name": "stdout"
        }
      ]
    }
  ]
}